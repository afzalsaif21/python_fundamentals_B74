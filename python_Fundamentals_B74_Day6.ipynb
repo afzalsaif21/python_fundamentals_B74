{
 "cells": [
  {
   "cell_type": "code",
   "execution_count": null,
   "id": "aa79c5ce",
   "metadata": {},
   "outputs": [],
   "source": [
    "Introduction to looping statementsn:"
   ]
  },
  {
   "cell_type": "code",
   "execution_count": null,
   "id": "79ace2df",
   "metadata": {},
   "outputs": [],
   "source": []
  },
  {
   "cell_type": "code",
   "execution_count": null,
   "id": "ec4fa3d1",
   "metadata": {},
   "outputs": [],
   "source": [
    "understanding the concept of for loop :"
   ]
  },
  {
   "cell_type": "code",
   "execution_count": null,
   "id": "f9bf18b8",
   "metadata": {},
   "outputs": [],
   "source": [
    "# general syntax of the for loop :"
   ]
  },
  {
   "cell_type": "code",
   "execution_count": null,
   "id": "0af75be8",
   "metadata": {},
   "outputs": [],
   "source": [
    "# formulae\n",
    "for temp_var in main_var:\n",
    "    print(temp_var)"
   ]
  },
  {
   "cell_type": "code",
   "execution_count": null,
   "id": "d3c1cc04",
   "metadata": {},
   "outputs": [],
   "source": []
  },
  {
   "cell_type": "code",
   "execution_count": 1,
   "id": "76004be2",
   "metadata": {},
   "outputs": [],
   "source": [
    "students = ['sunil', 'snehal', 'iqra', 'sadiya']"
   ]
  },
  {
   "cell_type": "code",
   "execution_count": 2,
   "id": "40ecbb51",
   "metadata": {},
   "outputs": [
    {
     "name": "stdout",
     "output_type": "stream",
     "text": [
      "['sunil', 'snehal', 'iqra', 'sadiya']\n"
     ]
    }
   ],
   "source": [
    "print(students)"
   ]
  },
  {
   "cell_type": "code",
   "execution_count": 3,
   "id": "9714d52c",
   "metadata": {},
   "outputs": [
    {
     "data": {
      "text/plain": [
       "list"
      ]
     },
     "execution_count": 3,
     "metadata": {},
     "output_type": "execute_result"
    }
   ],
   "source": [
    "type(students)"
   ]
  },
  {
   "cell_type": "code",
   "execution_count": null,
   "id": "c1d8c4a2",
   "metadata": {},
   "outputs": [],
   "source": [
    "# req : i want to appreciate the above students in the list..."
   ]
  },
  {
   "cell_type": "code",
   "execution_count": 4,
   "id": "9799614f",
   "metadata": {},
   "outputs": [
    {
     "name": "stdout",
     "output_type": "stream",
     "text": [
      "keep up the good work, Sunil\n"
     ]
    }
   ],
   "source": [
    "print (f\"keep up the good work, {students[0].title()}\")"
   ]
  },
  {
   "cell_type": "code",
   "execution_count": 5,
   "id": "13556d5e",
   "metadata": {},
   "outputs": [
    {
     "name": "stdout",
     "output_type": "stream",
     "text": [
      "keep up the good work, Snehal\n"
     ]
    }
   ],
   "source": [
    "print(f\"keep up the good work, {students[1].title()}\")"
   ]
  },
  {
   "cell_type": "code",
   "execution_count": null,
   "id": "328d1649",
   "metadata": {},
   "outputs": [],
   "source": []
  },
  {
   "cell_type": "code",
   "execution_count": 7,
   "id": "e2d8babe",
   "metadata": {},
   "outputs": [
    {
     "name": "stdout",
     "output_type": "stream",
     "text": [
      "keep up the good work, sunil\n",
      "keep up the good work, snehal\n",
      "keep up the good work, iqra\n",
      "keep up the good work, sadiya\n"
     ]
    }
   ],
   "source": [
    "for x in students:\n",
    "    print(f\"keep up the good work, {x}\")"
   ]
  },
  {
   "cell_type": "code",
   "execution_count": null,
   "id": "7a2d6077",
   "metadata": {},
   "outputs": [],
   "source": [
    "for temp_var in main_var:\n",
    "    print(temp_var)"
   ]
  },
  {
   "cell_type": "code",
   "execution_count": 8,
   "id": "6736ffee",
   "metadata": {},
   "outputs": [
    {
     "name": "stdout",
     "output_type": "stream",
     "text": [
      "sunil\n",
      "snehal\n",
      "iqra\n",
      "sadiya\n"
     ]
    }
   ],
   "source": [
    "for a in students:\n",
    "    print(a)"
   ]
  },
  {
   "cell_type": "code",
   "execution_count": null,
   "id": "1dcfdb89",
   "metadata": {},
   "outputs": [],
   "source": [
    "#  req : i want to remind them that i will be looking forward for the running notes of today."
   ]
  },
  {
   "cell_type": "code",
   "execution_count": 11,
   "id": "49b963e3",
   "metadata": {},
   "outputs": [
    {
     "name": "stdout",
     "output_type": "stream",
     "text": [
      "keep up the good work, sunil\n",
      "i will be looking forward for todayssubmission, sunil\n",
      "keep up the good work, snehal\n",
      "i will be looking forward for todayssubmission, snehal\n",
      "keep up the good work, iqra\n",
      "i will be looking forward for todayssubmission, iqra\n",
      "keep up the good work, sadiya\n",
      "i will be looking forward for todayssubmission, sadiya\n"
     ]
    }
   ],
   "source": [
    "for x in students:\n",
    "    print(f\"keep up the good work, {x}\")\n",
    "    print(f\"i will be looking forward for todayssubmission, {x}\")"
   ]
  },
  {
   "cell_type": "code",
   "execution_count": null,
   "id": "86e15828",
   "metadata": {},
   "outputs": [],
   "source": []
  },
  {
   "cell_type": "code",
   "execution_count": null,
   "id": "f9117c7b",
   "metadata": {},
   "outputs": [],
   "source": [
    "# enchasement of the code...!"
   ]
  },
  {
   "cell_type": "code",
   "execution_count": 12,
   "id": "ba7c6715",
   "metadata": {},
   "outputs": [
    {
     "name": "stdout",
     "output_type": "stream",
     "text": [
      "keep up the good work, sunil\n",
      "i will be looking forwards for todays submission, sunil\n",
      "\n",
      "keep up the good work, snehal\n",
      "i will be looking forwards for todays submission, snehal\n",
      "\n",
      "keep up the good work, iqra\n",
      "i will be looking forwards for todays submission, iqra\n",
      "\n",
      "keep up the good work, sadiya\n",
      "i will be looking forwards for todays submission, sadiya\n",
      "\n"
     ]
    }
   ],
   "source": [
    "for x in students :\n",
    "    print(f\"keep up the good work, {x}\")\n",
    "    print(f\"i will be looking forwards for todays submission, {x}\\n\")"
   ]
  },
  {
   "cell_type": "code",
   "execution_count": null,
   "id": "6be2475e",
   "metadata": {},
   "outputs": [],
   "source": []
  },
  {
   "cell_type": "code",
   "execution_count": null,
   "id": "a36b2b60",
   "metadata": {},
   "outputs": [],
   "source": []
  },
  {
   "cell_type": "code",
   "execution_count": null,
   "id": "18b274e0",
   "metadata": {},
   "outputs": [],
   "source": []
  }
 ],
 "metadata": {
  "kernelspec": {
   "display_name": "Python 3 (ipykernel)",
   "language": "python",
   "name": "python3"
  },
  "language_info": {
   "codemirror_mode": {
    "name": "ipython",
    "version": 3
   },
   "file_extension": ".py",
   "mimetype": "text/x-python",
   "name": "python",
   "nbconvert_exporter": "python",
   "pygments_lexer": "ipython3",
   "version": "3.9.13"
  }
 },
 "nbformat": 4,
 "nbformat_minor": 5
}
