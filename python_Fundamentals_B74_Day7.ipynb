{
 "cells": [
  {
   "cell_type": "code",
   "execution_count": null,
   "id": "3fcb337f",
   "metadata": {},
   "outputs": [],
   "source": [
    "General syntax :"
   ]
  },
  {
   "cell_type": "code",
   "execution_count": null,
   "id": "883c4c00",
   "metadata": {},
   "outputs": [],
   "source": []
  },
  {
   "cell_type": "code",
   "execution_count": null,
   "id": "c414c2a8",
   "metadata": {},
   "outputs": [],
   "source": [
    "for temp_var in main_var:\n",
    "    print(temp_var)"
   ]
  },
  {
   "cell_type": "code",
   "execution_count": null,
   "id": "b5561beb",
   "metadata": {},
   "outputs": [],
   "source": []
  },
  {
   "cell_type": "code",
   "execution_count": 1,
   "id": "7c54fc74",
   "metadata": {},
   "outputs": [],
   "source": [
    "students = ['afzal', 'suresh', 'naveen', 'rahul', 'keerthi', 'shanthi']"
   ]
  },
  {
   "cell_type": "code",
   "execution_count": null,
   "id": "692b0005",
   "metadata": {},
   "outputs": [],
   "source": []
  },
  {
   "cell_type": "code",
   "execution_count": 2,
   "id": "a7e8a577",
   "metadata": {},
   "outputs": [
    {
     "name": "stdout",
     "output_type": "stream",
     "text": [
      "keep up the good work, afzal\n",
      "keep up the good work, suresh\n",
      "keep up the good work, naveen\n",
      "keep up the good work, rahul\n",
      "keep up the good work, keerthi\n",
      "keep up the good work, shanthi\n"
     ]
    }
   ],
   "source": [
    "for x in students:\n",
    "    print(f\"keep up the good work, {x}\")"
   ]
  },
  {
   "cell_type": "code",
   "execution_count": 7,
   "id": "5557f23c",
   "metadata": {},
   "outputs": [
    {
     "ename": "SyntaxError",
     "evalue": "unexpected character after line continuation character (3510451425.py, line 3)",
     "output_type": "error",
     "traceback": [
      "\u001b[1;36m  File \u001b[1;32m\"C:\\Users\\user\\AppData\\Local\\Temp\\ipykernel_4580\\3510451425.py\"\u001b[1;36m, line \u001b[1;32m3\u001b[0m\n\u001b[1;33m    print(f\"do submit your github url for today, {x}\"\\n)\u001b[0m\n\u001b[1;37m                                                      ^\u001b[0m\n\u001b[1;31mSyntaxError\u001b[0m\u001b[1;31m:\u001b[0m unexpected character after line continuation character\n"
     ]
    }
   ],
   "source": [
    "for x in students:\n",
    "    print(f\"keep up the good work, {x}\")\n",
    "    print(f\"do submit your github url for today, {x}\"\\n)"
   ]
  },
  {
   "cell_type": "code",
   "execution_count": 9,
   "id": "c5e1243f",
   "metadata": {},
   "outputs": [
    {
     "name": "stdout",
     "output_type": "stream",
     "text": [
      "keep up the good work, afzal\n",
      "do submit your github url for today, afzal\n",
      "\n",
      "keep up the good work, suresh\n",
      "do submit your github url for today, suresh\n",
      "\n",
      "keep up the good work, naveen\n",
      "do submit your github url for today, naveen\n",
      "\n",
      "keep up the good work, rahul\n",
      "do submit your github url for today, rahul\n",
      "\n",
      "keep up the good work, keerthi\n",
      "do submit your github url for today, keerthi\n",
      "\n",
      "keep up the good work, shanthi\n",
      "do submit your github url for today, shanthi\n",
      "\n"
     ]
    }
   ],
   "source": [
    "for x in students:\n",
    "    print(f\"keep up the good work, {x}\")\n",
    "    print(f\"do submit your github url for today, {x}\\n\")"
   ]
  },
  {
   "cell_type": "code",
   "execution_count": 10,
   "id": "6db88087",
   "metadata": {},
   "outputs": [
    {
     "name": "stdout",
     "output_type": "stream",
     "text": [
      "keep up the good work, afzal\n",
      "do submit your github url for today, afzal\n",
      "keep up the good work, suresh\n",
      "do submit your github url for today, suresh\n",
      "keep up the good work, naveen\n",
      "do submit your github url for today, naveen\n",
      "keep up the good work, rahul\n",
      "do submit your github url for today, rahul\n",
      "keep up the good work, keerthi\n",
      "do submit your github url for today, keerthi\n",
      "keep up the good work, shanthi\n",
      "do submit your github url for today, shanthi\n"
     ]
    }
   ],
   "source": [
    "for x in students:\n",
    "    print(f\"keep up the good work, {x}\")\n",
    "    print(f\"do submit your github url for today, {x}\")"
   ]
  },
  {
   "cell_type": "code",
   "execution_count": 12,
   "id": "c72b5f71",
   "metadata": {},
   "outputs": [
    {
     "ename": "IndentationError",
     "evalue": "expected an indented block (415743777.py, line 2)",
     "output_type": "error",
     "traceback": [
      "\u001b[1;36m  File \u001b[1;32m\"C:\\Users\\user\\AppData\\Local\\Temp\\ipykernel_4580\\415743777.py\"\u001b[1;36m, line \u001b[1;32m2\u001b[0m\n\u001b[1;33m    print(f\"keep up the good work, {x}\")\u001b[0m\n\u001b[1;37m    ^\u001b[0m\n\u001b[1;31mIndentationError\u001b[0m\u001b[1;31m:\u001b[0m expected an indented block\n"
     ]
    }
   ],
   "source": [
    "for x in students:\n",
    "print(f\"keep up the good work, {x}\")"
   ]
  },
  {
   "cell_type": "code",
   "execution_count": 13,
   "id": "cd72fc3a",
   "metadata": {},
   "outputs": [
    {
     "name": "stdout",
     "output_type": "stream",
     "text": [
      "keep up the good work, afzal\n",
      "do submit your github url for today, afzal\n",
      "\n",
      "keep up the good work, suresh\n",
      "do submit your github url for today, suresh\n",
      "\n",
      "keep up the good work, naveen\n",
      "do submit your github url for today, naveen\n",
      "\n",
      "keep up the good work, rahul\n",
      "do submit your github url for today, rahul\n",
      "\n",
      "keep up the good work, keerthi\n",
      "do submit your github url for today, keerthi\n",
      "\n",
      "keep up the good work, shanthi\n",
      "do submit your github url for today, shanthi\n",
      "\n",
      "Thank you all for joining in the session\n"
     ]
    }
   ],
   "source": [
    "for x in students:\n",
    "    print(f\"keep up the good work, {x}\")\n",
    "    print(f\"do submit your github url for today, {x}\\n\")\n",
    "    \n",
    "print(\"Thank you all for joining in the session\")"
   ]
  },
  {
   "cell_type": "code",
   "execution_count": null,
   "id": "5a69673f",
   "metadata": {},
   "outputs": [],
   "source": []
  },
  {
   "cell_type": "code",
   "execution_count": null,
   "id": "a44569f6",
   "metadata": {},
   "outputs": [],
   "source": [
    "introduction to tuple datatype :"
   ]
  },
  {
   "cell_type": "code",
   "execution_count": null,
   "id": "4285e3f2",
   "metadata": {},
   "outputs": [],
   "source": [
    "defination : An immutable list is called as a tuple data type.\n",
    "classification : it is classified as an immutable datatype\n",
    "how to declare the tuple datatype.........> ()"
   ]
  },
  {
   "cell_type": "code",
   "execution_count": null,
   "id": "7fd7c7dd",
   "metadata": {},
   "outputs": [],
   "source": []
  },
  {
   "cell_type": "code",
   "execution_count": 14,
   "id": "6d1a29ce",
   "metadata": {},
   "outputs": [],
   "source": [
    "students = ('anand', 'arshad', 'naveen', 'padma', 'bhanu')"
   ]
  },
  {
   "cell_type": "code",
   "execution_count": 15,
   "id": "b99d3137",
   "metadata": {},
   "outputs": [
    {
     "data": {
      "text/plain": [
       "tuple"
      ]
     },
     "execution_count": 15,
     "metadata": {},
     "output_type": "execute_result"
    }
   ],
   "source": [
    "type(students)"
   ]
  },
  {
   "cell_type": "code",
   "execution_count": null,
   "id": "3a09291d",
   "metadata": {},
   "outputs": [],
   "source": [
    "# req : i want to change anand name to arun....?"
   ]
  },
  {
   "cell_type": "code",
   "execution_count": 17,
   "id": "e190e9c9",
   "metadata": {},
   "outputs": [
    {
     "ename": "TypeError",
     "evalue": "'tuple' object does not support item assignment",
     "output_type": "error",
     "traceback": [
      "\u001b[1;31m---------------------------------------------------------------------------\u001b[0m",
      "\u001b[1;31mTypeError\u001b[0m                                 Traceback (most recent call last)",
      "\u001b[1;32m~\\AppData\\Local\\Temp\\ipykernel_4580\\1317510341.py\u001b[0m in \u001b[0;36m<module>\u001b[1;34m\u001b[0m\n\u001b[1;32m----> 1\u001b[1;33m \u001b[0mstudents\u001b[0m\u001b[1;33m[\u001b[0m\u001b[1;36m0\u001b[0m\u001b[1;33m]\u001b[0m \u001b[1;33m=\u001b[0m \u001b[1;34m'arun'\u001b[0m\u001b[1;33m\u001b[0m\u001b[1;33m\u001b[0m\u001b[0m\n\u001b[0m",
      "\u001b[1;31mTypeError\u001b[0m: 'tuple' object does not support item assignment"
     ]
    }
   ],
   "source": [
    "students[0] = 'arun'"
   ]
  },
  {
   "cell_type": "code",
   "execution_count": 18,
   "id": "0ca3e458",
   "metadata": {},
   "outputs": [],
   "source": [
    "dimension = (200, 50)"
   ]
  },
  {
   "cell_type": "code",
   "execution_count": 19,
   "id": "b221f58a",
   "metadata": {},
   "outputs": [
    {
     "name": "stdout",
     "output_type": "stream",
     "text": [
      "(200, 50)\n"
     ]
    }
   ],
   "source": [
    "print(dimension)"
   ]
  },
  {
   "cell_type": "code",
   "execution_count": null,
   "id": "79734459",
   "metadata": {},
   "outputs": [],
   "source": []
  },
  {
   "cell_type": "code",
   "execution_count": 20,
   "id": "0a44476b",
   "metadata": {},
   "outputs": [],
   "source": [
    "dimension = (250, 50)"
   ]
  },
  {
   "cell_type": "code",
   "execution_count": 21,
   "id": "122e2027",
   "metadata": {},
   "outputs": [
    {
     "name": "stdout",
     "output_type": "stream",
     "text": [
      "(250, 50)\n"
     ]
    }
   ],
   "source": [
    "print(dimension)"
   ]
  },
  {
   "cell_type": "code",
   "execution_count": 22,
   "id": "be847fae",
   "metadata": {},
   "outputs": [
    {
     "name": "stdout",
     "output_type": "stream",
     "text": [
      "('anand', 'arshad', 'naveen', 'padma', 'bhanu')\n"
     ]
    }
   ],
   "source": [
    "print(students)"
   ]
  },
  {
   "cell_type": "code",
   "execution_count": 25,
   "id": "27d628ce",
   "metadata": {},
   "outputs": [
    {
     "name": "stdout",
     "output_type": "stream",
     "text": [
      "Arshad\n"
     ]
    }
   ],
   "source": [
    "print(students[1].title())"
   ]
  },
  {
   "cell_type": "code",
   "execution_count": 26,
   "id": "2b36e81d",
   "metadata": {},
   "outputs": [
    {
     "name": "stdout",
     "output_type": "stream",
     "text": [
      "anand\n",
      "arshad\n",
      "naveen\n",
      "padma\n",
      "bhanu\n"
     ]
    }
   ],
   "source": [
    "for x in students:\n",
    "    print(x)"
   ]
  },
  {
   "cell_type": "code",
   "execution_count": null,
   "id": "4f3c4e22",
   "metadata": {},
   "outputs": [],
   "source": []
  },
  {
   "cell_type": "code",
   "execution_count": null,
   "id": "7b1e3e2d",
   "metadata": {},
   "outputs": [],
   "source": [
    "Introduction to Dictionaries are a combination of key - value pairs.\n",
    "\n",
    "classification : it is classified as a mutable datatype\n",
    "    \n",
    "how to declare a dictionary : {}"
   ]
  }
 ],
 "metadata": {
  "kernelspec": {
   "display_name": "Python 3 (ipykernel)",
   "language": "python",
   "name": "python3"
  },
  "language_info": {
   "codemirror_mode": {
    "name": "ipython",
    "version": 3
   },
   "file_extension": ".py",
   "mimetype": "text/x-python",
   "name": "python",
   "nbconvert_exporter": "python",
   "pygments_lexer": "ipython3",
   "version": "3.9.13"
  }
 },
 "nbformat": 4,
 "nbformat_minor": 5
}
