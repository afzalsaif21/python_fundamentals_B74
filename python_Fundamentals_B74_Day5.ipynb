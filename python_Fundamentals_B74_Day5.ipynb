{
 "cells": [
  {
   "cell_type": "code",
   "execution_count": null,
   "id": "e169b60b",
   "metadata": {},
   "outputs": [],
   "source": [
    "working with the list datatype"
   ]
  },
  {
   "cell_type": "code",
   "execution_count": null,
   "id": "76aa2198",
   "metadata": {},
   "outputs": [],
   "source": [
    "Organising the list datatype"
   ]
  },
  {
   "cell_type": "code",
   "execution_count": null,
   "id": "6f6f8d1d",
   "metadata": {},
   "outputs": [],
   "source": []
  },
  {
   "cell_type": "code",
   "execution_count": 1,
   "id": "b50a8271",
   "metadata": {},
   "outputs": [],
   "source": [
    "cars = ['kia','benz','maruthi','honda','bmw','audi']"
   ]
  },
  {
   "cell_type": "code",
   "execution_count": null,
   "id": "c80a0911",
   "metadata": {},
   "outputs": [],
   "source": []
  },
  {
   "cell_type": "code",
   "execution_count": null,
   "id": "0f07789c",
   "metadata": {},
   "outputs": [],
   "source": [
    "# req : i want to print the list in the alphabatecial order -----> A - Z"
   ]
  },
  {
   "cell_type": "code",
   "execution_count": null,
   "id": "4808f17d",
   "metadata": {},
   "outputs": [],
   "source": [
    "two approaches :\n",
    "    \n",
    "1. temperorary approach |-------> sorted ----> we csm maintain the original oder of the list\n",
    "\n",
    "2. permanent  approach---- sort ----> Changes are applied permanentely "
   ]
  },
  {
   "cell_type": "code",
   "execution_count": null,
   "id": "8b6943f9",
   "metadata": {},
   "outputs": [],
   "source": []
  },
  {
   "cell_type": "code",
   "execution_count": 2,
   "id": "9654e2e8",
   "metadata": {},
   "outputs": [
    {
     "name": "stdout",
     "output_type": "stream",
     "text": [
      "['audi', 'benz', 'bmw', 'honda', 'kia', 'maruthi']\n"
     ]
    }
   ],
   "source": [
    "print(sorted(cars)) # A,B, B, H,K, M ====> A_Z"
   ]
  },
  {
   "cell_type": "code",
   "execution_count": null,
   "id": "8fdd204b",
   "metadata": {},
   "outputs": [],
   "source": [
    "benz, bmw.......> B,B ====> e,m"
   ]
  },
  {
   "cell_type": "code",
   "execution_count": 3,
   "id": "b61098e2",
   "metadata": {},
   "outputs": [
    {
     "name": "stdout",
     "output_type": "stream",
     "text": [
      "['kia', 'benz', 'maruthi', 'honda', 'bmw', 'audi']\n"
     ]
    }
   ],
   "source": [
    "print(cars) # this is the original order"
   ]
  },
  {
   "cell_type": "code",
   "execution_count": 4,
   "id": "88e539ed",
   "metadata": {},
   "outputs": [
    {
     "name": "stdout",
     "output_type": "stream",
     "text": [
      "['kia', 'benz', 'maruthi', 'honda', 'bmw', 'audi']\n"
     ]
    }
   ],
   "source": [
    "print(cars)"
   ]
  },
  {
   "cell_type": "code",
   "execution_count": null,
   "id": "0d6d02bc",
   "metadata": {},
   "outputs": [],
   "source": []
  },
  {
   "cell_type": "code",
   "execution_count": 5,
   "id": "a8d4b13e",
   "metadata": {},
   "outputs": [],
   "source": [
    "cars.sort()"
   ]
  },
  {
   "cell_type": "code",
   "execution_count": 6,
   "id": "8433ef8d",
   "metadata": {},
   "outputs": [
    {
     "name": "stdout",
     "output_type": "stream",
     "text": [
      "['audi', 'benz', 'bmw', 'honda', 'kia', 'maruthi']\n"
     ]
    }
   ],
   "source": [
    "print(cars)"
   ]
  },
  {
   "cell_type": "code",
   "execution_count": 7,
   "id": "f32df2b0",
   "metadata": {},
   "outputs": [
    {
     "name": "stdout",
     "output_type": "stream",
     "text": [
      "['audi', 'benz', 'bmw', 'honda', 'kia', 'maruthi']\n"
     ]
    }
   ],
   "source": [
    "print(cars)"
   ]
  },
  {
   "cell_type": "code",
   "execution_count": null,
   "id": "e4a04b69",
   "metadata": {},
   "outputs": [],
   "source": [
    "interview question : what is the difference between sorted and sort method in a list"
   ]
  },
  {
   "cell_type": "code",
   "execution_count": null,
   "id": "acbc5b44",
   "metadata": {},
   "outputs": [],
   "source": []
  },
  {
   "cell_type": "code",
   "execution_count": null,
   "id": "87285906",
   "metadata": {},
   "outputs": [],
   "source": [
    "# i want to print the list in the reverse order...?"
   ]
  },
  {
   "cell_type": "code",
   "execution_count": 8,
   "id": "c3541d10",
   "metadata": {},
   "outputs": [
    {
     "name": "stdout",
     "output_type": "stream",
     "text": [
      "['audi', 'benz', 'bmw', 'honda', 'kia', 'maruthi']\n"
     ]
    }
   ],
   "source": [
    "print(cars)"
   ]
  },
  {
   "cell_type": "code",
   "execution_count": null,
   "id": "70c14972",
   "metadata": {},
   "outputs": [],
   "source": [
    "# maruti, kia, honda, bmw, benz, audi"
   ]
  },
  {
   "cell_type": "code",
   "execution_count": 9,
   "id": "6ffbe03b",
   "metadata": {},
   "outputs": [],
   "source": [
    "cars.reverse()"
   ]
  },
  {
   "cell_type": "code",
   "execution_count": 10,
   "id": "83d393fc",
   "metadata": {},
   "outputs": [
    {
     "name": "stdout",
     "output_type": "stream",
     "text": [
      "['maruthi', 'kia', 'honda', 'bmw', 'benz', 'audi']\n"
     ]
    }
   ],
   "source": [
    "print(cars)"
   ]
  },
  {
   "cell_type": "code",
   "execution_count": null,
   "id": "fa34284b",
   "metadata": {},
   "outputs": [],
   "source": []
  },
  {
   "cell_type": "code",
   "execution_count": null,
   "id": "3ee75a20",
   "metadata": {},
   "outputs": [],
   "source": [
    "# i want to know the no of elements in the list....?"
   ]
  },
  {
   "cell_type": "code",
   "execution_count": 11,
   "id": "7bf4316e",
   "metadata": {},
   "outputs": [
    {
     "data": {
      "text/plain": [
       "6"
      ]
     },
     "execution_count": 11,
     "metadata": {},
     "output_type": "execute_result"
    }
   ],
   "source": [
    "len(cars)"
   ]
  },
  {
   "cell_type": "code",
   "execution_count": null,
   "id": "77e23643",
   "metadata": {},
   "outputs": [],
   "source": []
  },
  {
   "cell_type": "code",
   "execution_count": null,
   "id": "b4b2bfd5",
   "metadata": {},
   "outputs": [],
   "source": [
    "introduction of slicing :"
   ]
  },
  {
   "cell_type": "code",
   "execution_count": 12,
   "id": "11cbf00f",
   "metadata": {},
   "outputs": [],
   "source": [
    "students = ['trinadh', 'akhil', 'ansari', 'david', 'sadiya', 'iqra', 'divya', 'swathi']"
   ]
  },
  {
   "cell_type": "code",
   "execution_count": 13,
   "id": "66c3e5c7",
   "metadata": {},
   "outputs": [
    {
     "name": "stdout",
     "output_type": "stream",
     "text": [
      "['trinadh', 'akhil', 'ansari', 'david', 'sadiya', 'iqra', 'divya', 'swathi']\n"
     ]
    }
   ],
   "source": [
    "print(students)"
   ]
  },
  {
   "cell_type": "code",
   "execution_count": 14,
   "id": "a0650af0",
   "metadata": {},
   "outputs": [
    {
     "data": {
      "text/plain": [
       "list"
      ]
     },
     "execution_count": 14,
     "metadata": {},
     "output_type": "execute_result"
    }
   ],
   "source": [
    "type(students)"
   ]
  },
  {
   "cell_type": "code",
   "execution_count": null,
   "id": "22456765",
   "metadata": {},
   "outputs": [],
   "source": [
    " # general syntax of slicing"
   ]
  },
  {
   "cell_type": "code",
   "execution_count": null,
   "id": "650c7318",
   "metadata": {},
   "outputs": [],
   "source": [
    "[startvalue:stopvalue:stepcount]"
   ]
  },
  {
   "cell_type": "code",
   "execution_count": null,
   "id": "de2f85c7",
   "metadata": {},
   "outputs": [],
   "source": [
    "Note : stop value is always exclusive -to include we have to increment the index by +1"
   ]
  },
  {
   "cell_type": "code",
   "execution_count": null,
   "id": "48676889",
   "metadata": {},
   "outputs": [],
   "source": []
  },
  {
   "cell_type": "code",
   "execution_count": null,
   "id": "81939a14",
   "metadata": {},
   "outputs": [],
   "source": [
    "# req : i want to trinadh and akhil in the output....?"
   ]
  },
  {
   "cell_type": "code",
   "execution_count": 16,
   "id": "9caf25a4",
   "metadata": {},
   "outputs": [
    {
     "name": "stdout",
     "output_type": "stream",
     "text": [
      "['trinadh']\n"
     ]
    }
   ],
   "source": [
    "print(students[0:1])"
   ]
  },
  {
   "cell_type": "code",
   "execution_count": 17,
   "id": "30ba6a31",
   "metadata": {},
   "outputs": [
    {
     "name": "stdout",
     "output_type": "stream",
     "text": [
      "['trinadh', 'akhil']\n"
     ]
    }
   ],
   "source": [
    "print(students[0:2])"
   ]
  },
  {
   "cell_type": "code",
   "execution_count": null,
   "id": "10cdb04f",
   "metadata": {},
   "outputs": [],
   "source": [
    "# ansari and david...."
   ]
  },
  {
   "cell_type": "code",
   "execution_count": 18,
   "id": "349cadd7",
   "metadata": {},
   "outputs": [
    {
     "name": "stdout",
     "output_type": "stream",
     "text": [
      "['ansari', 'david']\n"
     ]
    }
   ],
   "source": [
    "print(students[2:4])"
   ]
  },
  {
   "cell_type": "code",
   "execution_count": null,
   "id": "c188ba08",
   "metadata": {},
   "outputs": [],
   "source": [
    "# divta and Swathi"
   ]
  },
  {
   "cell_type": "code",
   "execution_count": 19,
   "id": "c4d2db3d",
   "metadata": {},
   "outputs": [
    {
     "name": "stdout",
     "output_type": "stream",
     "text": [
      "['divya', 'swathi']\n"
     ]
    }
   ],
   "source": [
    "print(students[6:8])"
   ]
  },
  {
   "cell_type": "code",
   "execution_count": null,
   "id": "25bc2f50",
   "metadata": {},
   "outputs": [],
   "source": []
  },
  {
   "cell_type": "code",
   "execution_count": 20,
   "id": "f9a5856d",
   "metadata": {},
   "outputs": [
    {
     "name": "stdout",
     "output_type": "stream",
     "text": [
      "['trinadh', 'akhil', 'ansari', 'david', 'sadiya', 'iqra', 'divya', 'swathi']\n"
     ]
    }
   ],
   "source": [
    "print(students)"
   ]
  },
  {
   "cell_type": "code",
   "execution_count": 21,
   "id": "cea1389d",
   "metadata": {},
   "outputs": [
    {
     "name": "stdout",
     "output_type": "stream",
     "text": [
      "['trinadh', 'ansari', 'sadiya', 'divya']\n"
     ]
    }
   ],
   "source": [
    "print(students[0:8:2])"
   ]
  },
  {
   "cell_type": "code",
   "execution_count": null,
   "id": "66f691ae",
   "metadata": {},
   "outputs": [],
   "source": []
  }
 ],
 "metadata": {
  "kernelspec": {
   "display_name": "Python 3 (ipykernel)",
   "language": "python",
   "name": "python3"
  },
  "language_info": {
   "codemirror_mode": {
    "name": "ipython",
    "version": 3
   },
   "file_extension": ".py",
   "mimetype": "text/x-python",
   "name": "python",
   "nbconvert_exporter": "python",
   "pygments_lexer": "ipython3",
   "version": "3.9.13"
  }
 },
 "nbformat": 4,
 "nbformat_minor": 5
}
