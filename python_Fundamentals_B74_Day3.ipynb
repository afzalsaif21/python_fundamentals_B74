{
 "cells": [
  {
   "cell_type": "code",
   "execution_count": null,
   "id": "a954c49a",
   "metadata": {},
   "outputs": [],
   "source": [
    "Continuation with string data type :"
   ]
  },
  {
   "cell_type": "code",
   "execution_count": null,
   "id": "6c50a659",
   "metadata": {},
   "outputs": [],
   "source": []
  },
  {
   "cell_type": "code",
   "execution_count": null,
   "id": "2551a3b9",
   "metadata": {},
   "outputs": [],
   "source": [
    "first_name = \"bharat\"\n",
    "last_name = \"reddy\""
   ]
  },
  {
   "cell_type": "code",
   "execution_count": null,
   "id": "5ecc35a3",
   "metadata": {},
   "outputs": [],
   "source": [
    "# req : I want to get the full name ?"
   ]
  },
  {
   "cell_type": "code",
   "execution_count": null,
   "id": "828e8dba",
   "metadata": {},
   "outputs": [],
   "source": []
  },
  {
   "cell_type": "code",
   "execution_count": null,
   "id": "4ddf8309",
   "metadata": {},
   "outputs": [],
   "source": [
    "Understanding the concept of f string **"
   ]
  },
  {
   "cell_type": "code",
   "execution_count": null,
   "id": "6e6fe66a",
   "metadata": {},
   "outputs": [],
   "source": [
    "# general syntax of f string **"
   ]
  },
  {
   "cell_type": "code",
   "execution_count": null,
   "id": "1fcf1853",
   "metadata": {},
   "outputs": [],
   "source": [
    "f* custom words {place_holder - 1} {place_holder - 2}.................{place_holder....n}"
   ]
  },
  {
   "cell_type": "code",
   "execution_count": null,
   "id": "106b0d38",
   "metadata": {},
   "outputs": [],
   "source": []
  },
  {
   "cell_type": "code",
   "execution_count": 2,
   "id": "ffcf7346",
   "metadata": {},
   "outputs": [
    {
     "name": "stdout",
     "output_type": "stream",
     "text": [
      "bharat reddy\n"
     ]
    }
   ],
   "source": [
    "first_name = \"bharat\"\n",
    "last_name = \"reddy\"\n",
    "full_name = f\"{first_name} {last_name}\"\n",
    "print(full_name)"
   ]
  },
  {
   "cell_type": "code",
   "execution_count": null,
   "id": "38c2e559",
   "metadata": {},
   "outputs": [],
   "source": []
  },
  {
   "cell_type": "code",
   "execution_count": null,
   "id": "8691bca9",
   "metadata": {},
   "outputs": [],
   "source": []
  },
  {
   "cell_type": "code",
   "execution_count": null,
   "id": "3a4a4588",
   "metadata": {},
   "outputs": [],
   "source": []
  }
 ],
 "metadata": {
  "kernelspec": {
   "display_name": "Python 3 (ipykernel)",
   "language": "python",
   "name": "python3"
  },
  "language_info": {
   "codemirror_mode": {
    "name": "ipython",
    "version": 3
   },
   "file_extension": ".py",
   "mimetype": "text/x-python",
   "name": "python",
   "nbconvert_exporter": "python",
   "pygments_lexer": "ipython3",
   "version": "3.9.13"
  }
 },
 "nbformat": 4,
 "nbformat_minor": 5
}
