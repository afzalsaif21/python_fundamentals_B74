{
 "cells": [
  {
   "cell_type": "code",
   "execution_count": null,
   "id": "5f804576",
   "metadata": {},
   "outputs": [],
   "source": [
    "Introduction to python function :"
   ]
  },
  {
   "cell_type": "code",
   "execution_count": null,
   "id": "9176781b",
   "metadata": {},
   "outputs": [],
   "source": [
    "strings, lists, tuples, dictionaries and numbers"
   ]
  },
  {
   "cell_type": "code",
   "execution_count": null,
   "id": "e9f20ab8",
   "metadata": {},
   "outputs": [],
   "source": []
  },
  {
   "cell_type": "code",
   "execution_count": null,
   "id": "f73ec6df",
   "metadata": {},
   "outputs": [],
   "source": [
    "sets, releation and functions f(x) ======"
   ]
  },
  {
   "cell_type": "code",
   "execution_count": null,
   "id": "72914bbd",
   "metadata": {},
   "outputs": [],
   "source": []
  },
  {
   "cell_type": "code",
   "execution_count": null,
   "id": "f6892f94",
   "metadata": {},
   "outputs": [],
   "source": [
    "rules for defining the functions :\n",
    "    use small case letter for defining the function :\n",
    "    we have to use def as keyword for defining the function :"
   ]
  },
  {
   "cell_type": "code",
   "execution_count": null,
   "id": "af9ea7d4",
   "metadata": {},
   "outputs": [],
   "source": []
  },
  {
   "cell_type": "code",
   "execution_count": null,
   "id": "8ddb3f49",
   "metadata": {},
   "outputs": [],
   "source": [
    "# req : create a function called describe_pet where it accepts two parameters such as animal_type and pet_name"
   ]
  },
  {
   "cell_type": "code",
   "execution_count": null,
   "id": "a33836cb",
   "metadata": {},
   "outputs": [],
   "source": []
  },
  {
   "cell_type": "code",
   "execution_count": 1,
   "id": "1b44080c",
   "metadata": {},
   "outputs": [],
   "source": [
    "def describe_pet(animal_type,pet_name) :\n",
    "    print(f\"i have a {animal_type}\")\n",
    "    print(f\"its name is {pet_name}\")"
   ]
  },
  {
   "cell_type": "code",
   "execution_count": 2,
   "id": "634a33ee",
   "metadata": {},
   "outputs": [
    {
     "name": "stdout",
     "output_type": "stream",
     "text": [
      "i have a dog\n",
      "its name is bruno\n"
     ]
    }
   ],
   "source": [
    "describe_pet('dog','bruno') # arguments passing"
   ]
  },
  {
   "cell_type": "code",
   "execution_count": 3,
   "id": "f84d68e9",
   "metadata": {},
   "outputs": [
    {
     "name": "stdout",
     "output_type": "stream",
     "text": [
      "i have a rabbit\n",
      "its name is rex\n"
     ]
    }
   ],
   "source": [
    "describe_pet('rabbit','rex')"
   ]
  },
  {
   "cell_type": "code",
   "execution_count": null,
   "id": "d5696afb",
   "metadata": {},
   "outputs": [],
   "source": []
  },
  {
   "cell_type": "code",
   "execution_count": null,
   "id": "54d68113",
   "metadata": {},
   "outputs": [],
   "source": [
    "types of arguments\n",
    "\n",
    "1. positional arguments\n",
    "2. keyword arguments\n",
    "3. default arguments"
   ]
  },
  {
   "cell_type": "code",
   "execution_count": null,
   "id": "9fe46cc5",
   "metadata": {},
   "outputs": [],
   "source": []
  },
  {
   "cell_type": "code",
   "execution_count": 4,
   "id": "54cbe7fd",
   "metadata": {},
   "outputs": [
    {
     "name": "stdout",
     "output_type": "stream",
     "text": [
      "i have a timo\n",
      "its name is bird\n"
     ]
    }
   ],
   "source": [
    "describe_pet('timo','bird')"
   ]
  },
  {
   "cell_type": "code",
   "execution_count": 6,
   "id": "d6683469",
   "metadata": {},
   "outputs": [
    {
     "name": "stdout",
     "output_type": "stream",
     "text": [
      "i have a bird\n",
      "its name is timo\n"
     ]
    }
   ],
   "source": [
    "describe_pet(pet_name= 'timo',animal_type='bird')"
   ]
  },
  {
   "cell_type": "code",
   "execution_count": 7,
   "id": "c74475f5",
   "metadata": {},
   "outputs": [
    {
     "ename": "TypeError",
     "evalue": "describe_pet() missing 1 required positional argument: 'pet_name'",
     "output_type": "error",
     "traceback": [
      "\u001b[1;31m---------------------------------------------------------------------------\u001b[0m",
      "\u001b[1;31mTypeError\u001b[0m                                 Traceback (most recent call last)",
      "\u001b[1;32m~\\AppData\\Local\\Temp\\ipykernel_3076\\712337334.py\u001b[0m in \u001b[0;36m<module>\u001b[1;34m\u001b[0m\n\u001b[1;32m----> 1\u001b[1;33m \u001b[0mdescribe_pet\u001b[0m\u001b[1;33m(\u001b[0m\u001b[1;34m'bruno'\u001b[0m\u001b[1;33m)\u001b[0m\u001b[1;33m\u001b[0m\u001b[1;33m\u001b[0m\u001b[0m\n\u001b[0m",
      "\u001b[1;31mTypeError\u001b[0m: describe_pet() missing 1 required positional argument: 'pet_name'"
     ]
    }
   ],
   "source": [
    "describe_pet('bruno')"
   ]
  },
  {
   "cell_type": "code",
   "execution_count": 10,
   "id": "34a39dfa",
   "metadata": {},
   "outputs": [],
   "source": [
    "def describe_pet(pet_name, animal_type='dog'):\n",
    "    print(f\"i have a {animal_type}\")\n",
    "    print(f\"its name is {pet_name}\")"
   ]
  },
  {
   "cell_type": "code",
   "execution_count": 11,
   "id": "a3477294",
   "metadata": {},
   "outputs": [
    {
     "name": "stdout",
     "output_type": "stream",
     "text": [
      "i have a dog\n",
      "its name is bruno\n"
     ]
    }
   ],
   "source": [
    "describe_pet('bruno')"
   ]
  },
  {
   "cell_type": "code",
   "execution_count": 13,
   "id": "b78172c2",
   "metadata": {},
   "outputs": [
    {
     "name": "stdout",
     "output_type": "stream",
     "text": [
      "i have a rabbit\n",
      "its name is rex\n"
     ]
    }
   ],
   "source": [
    "describe_pet('rex','rabbit')"
   ]
  },
  {
   "cell_type": "code",
   "execution_count": null,
   "id": "1b29b620",
   "metadata": {},
   "outputs": [],
   "source": []
  }
 ],
 "metadata": {
  "kernelspec": {
   "display_name": "Python 3 (ipykernel)",
   "language": "python",
   "name": "python3"
  },
  "language_info": {
   "codemirror_mode": {
    "name": "ipython",
    "version": 3
   },
   "file_extension": ".py",
   "mimetype": "text/x-python",
   "name": "python",
   "nbconvert_exporter": "python",
   "pygments_lexer": "ipython3",
   "version": "3.9.13"
  }
 },
 "nbformat": 4,
 "nbformat_minor": 5
}
