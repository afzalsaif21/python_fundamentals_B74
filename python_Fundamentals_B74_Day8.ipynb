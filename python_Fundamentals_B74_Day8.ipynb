{
 "cells": [
  {
   "cell_type": "code",
   "execution_count": null,
   "id": "1b1aac60",
   "metadata": {},
   "outputs": [],
   "source": [
    "Introduction to dictionary : ***"
   ]
  },
  {
   "cell_type": "code",
   "execution_count": null,
   "id": "976814a8",
   "metadata": {},
   "outputs": [],
   "source": [
    "defination : A dict is a combination of key - value pairs\n",
    "\n",
    "classification : it is classified as a mutable datatype\n",
    "    \n",
    "how to declare the dictionary ------? {}"
   ]
  },
  {
   "cell_type": "code",
   "execution_count": null,
   "id": "d92da7e0",
   "metadata": {},
   "outputs": [],
   "source": [
    "Note - in almost all the real world application dict datatypes are used....!"
   ]
  },
  {
   "cell_type": "code",
   "execution_count": null,
   "id": "36f0a934",
   "metadata": {},
   "outputs": [],
   "source": []
  },
  {
   "cell_type": "code",
   "execution_count": null,
   "id": "ba54527c",
   "metadata": {},
   "outputs": [],
   "source": [
    "# req : creating an alien"
   ]
  },
  {
   "cell_type": "code",
   "execution_count": 1,
   "id": "a4d5cebb",
   "metadata": {},
   "outputs": [],
   "source": [
    "alien = {'color':'green','points':5,'level':1}"
   ]
  },
  {
   "cell_type": "code",
   "execution_count": 2,
   "id": "e356b392",
   "metadata": {},
   "outputs": [
    {
     "name": "stdout",
     "output_type": "stream",
     "text": [
      "{'color': 'green', 'points': 5, 'level': 1}\n"
     ]
    }
   ],
   "source": [
    "print(alien)"
   ]
  },
  {
   "cell_type": "code",
   "execution_count": 3,
   "id": "9fc3e7af",
   "metadata": {},
   "outputs": [
    {
     "data": {
      "text/plain": [
       "dict"
      ]
     },
     "execution_count": 3,
     "metadata": {},
     "output_type": "execute_result"
    }
   ],
   "source": [
    "type(alien)"
   ]
  },
  {
   "cell_type": "code",
   "execution_count": null,
   "id": "87a68507",
   "metadata": {},
   "outputs": [],
   "source": [
    "# how to get the access the value from the dictionary.......?"
   ]
  },
  {
   "cell_type": "code",
   "execution_count": null,
   "id": "636e343c",
   "metadata": {},
   "outputs": [],
   "source": [
    "# req : i want to know the color of the alien....?"
   ]
  },
  {
   "cell_type": "code",
   "execution_count": 4,
   "id": "990692fb",
   "metadata": {},
   "outputs": [
    {
     "name": "stdout",
     "output_type": "stream",
     "text": [
      "green\n"
     ]
    }
   ],
   "source": [
    "print(alien['color'])"
   ]
  },
  {
   "cell_type": "code",
   "execution_count": null,
   "id": "e2ee5fd1",
   "metadata": {},
   "outputs": [],
   "source": [
    "Note - Give the key and get the value....!"
   ]
  },
  {
   "cell_type": "code",
   "execution_count": 7,
   "id": "be1fb64f",
   "metadata": {},
   "outputs": [
    {
     "name": "stdout",
     "output_type": "stream",
     "text": [
      "5\n"
     ]
    }
   ],
   "source": [
    "print(alien['points'])"
   ]
  },
  {
   "cell_type": "code",
   "execution_count": 8,
   "id": "8c5c2675",
   "metadata": {},
   "outputs": [
    {
     "ename": "KeyError",
     "evalue": "1",
     "output_type": "error",
     "traceback": [
      "\u001b[1;31m---------------------------------------------------------------------------\u001b[0m",
      "\u001b[1;31mKeyError\u001b[0m                                  Traceback (most recent call last)",
      "\u001b[1;32m~\\AppData\\Local\\Temp\\ipykernel_6100\\2937663479.py\u001b[0m in \u001b[0;36m<module>\u001b[1;34m\u001b[0m\n\u001b[1;32m----> 1\u001b[1;33m \u001b[0mprint\u001b[0m\u001b[1;33m(\u001b[0m\u001b[0malien\u001b[0m\u001b[1;33m[\u001b[0m\u001b[1;36m1\u001b[0m\u001b[1;33m]\u001b[0m\u001b[1;33m)\u001b[0m\u001b[1;33m\u001b[0m\u001b[1;33m\u001b[0m\u001b[0m\n\u001b[0m",
      "\u001b[1;31mKeyError\u001b[0m: 1"
     ]
    }
   ],
   "source": [
    "print(alien[1])"
   ]
  },
  {
   "cell_type": "code",
   "execution_count": null,
   "id": "d3e0435f",
   "metadata": {},
   "outputs": [],
   "source": [
    "# req : how to add new key value pairs to the dictionary............?"
   ]
  },
  {
   "cell_type": "code",
   "execution_count": null,
   "id": "c2f9a361",
   "metadata": {},
   "outputs": [],
   "source": [
    "# req : current_status : 'beginer'"
   ]
  },
  {
   "cell_type": "code",
   "execution_count": 13,
   "id": "d00c4504",
   "metadata": {},
   "outputs": [],
   "source": [
    "alien['current_status'] = 'beginer'"
   ]
  },
  {
   "cell_type": "code",
   "execution_count": 14,
   "id": "9a09373b",
   "metadata": {},
   "outputs": [
    {
     "name": "stdout",
     "output_type": "stream",
     "text": [
      "{'color': 'green', 'points': 5, 'level': 1, 'current_status': 'beginer'}\n"
     ]
    }
   ],
   "source": [
    "print(alien)"
   ]
  },
  {
   "cell_type": "code",
   "execution_count": null,
   "id": "dae4815a",
   "metadata": {},
   "outputs": [],
   "source": [
    "# how to modify the value"
   ]
  },
  {
   "cell_type": "code",
   "execution_count": null,
   "id": "e41e7c4f",
   "metadata": {},
   "outputs": [],
   "source": [
    "# color------?"
   ]
  },
  {
   "cell_type": "code",
   "execution_count": 16,
   "id": "cc67b983",
   "metadata": {},
   "outputs": [],
   "source": [
    "alien['color'] = 'yellow'"
   ]
  },
  {
   "cell_type": "code",
   "execution_count": 17,
   "id": "e6beafeb",
   "metadata": {},
   "outputs": [
    {
     "name": "stdout",
     "output_type": "stream",
     "text": [
      "{'color': 'yellow', 'points': 5, 'level': 1, 'current_status': 'beginer'}\n"
     ]
    }
   ],
   "source": [
    "print(alien)"
   ]
  },
  {
   "cell_type": "code",
   "execution_count": null,
   "id": "ce11e3f4",
   "metadata": {},
   "outputs": [],
   "source": [
    "# how to delete the key value pairs from the dictionary....."
   ]
  },
  {
   "cell_type": "code",
   "execution_count": null,
   "id": "d0e1f47b",
   "metadata": {},
   "outputs": [],
   "source": [
    "# points"
   ]
  },
  {
   "cell_type": "code",
   "execution_count": 19,
   "id": "eac3087d",
   "metadata": {},
   "outputs": [],
   "source": [
    "del alien['points']"
   ]
  },
  {
   "cell_type": "code",
   "execution_count": 20,
   "id": "2de66a5f",
   "metadata": {},
   "outputs": [
    {
     "name": "stdout",
     "output_type": "stream",
     "text": [
      "{'color': 'yellow', 'level': 1, 'current_status': 'beginer'}\n"
     ]
    }
   ],
   "source": [
    "print(alien)"
   ]
  },
  {
   "cell_type": "code",
   "execution_count": null,
   "id": "25f92b77",
   "metadata": {},
   "outputs": [],
   "source": []
  },
  {
   "cell_type": "code",
   "execution_count": null,
   "id": "c75378fe",
   "metadata": {},
   "outputs": [],
   "source": [
    "# create your facebook account.....?"
   ]
  },
  {
   "cell_type": "code",
   "execution_count": 21,
   "id": "95c561e6",
   "metadata": {},
   "outputs": [],
   "source": [
    "account = {'first_name':'code','last_name':'training','user_name':'ct_academy','dob':'01-01-2020','pwd':'54321'}"
   ]
  },
  {
   "cell_type": "code",
   "execution_count": 22,
   "id": "00c4b32a",
   "metadata": {},
   "outputs": [
    {
     "name": "stdout",
     "output_type": "stream",
     "text": [
      "{'first_name': 'code', 'last_name': 'training', 'user_name': 'ct_academy', 'dob': '01-01-2020', 'pwd': '54321'}\n"
     ]
    }
   ],
   "source": [
    "print(account)"
   ]
  },
  {
   "cell_type": "code",
   "execution_count": null,
   "id": "c4dc3910",
   "metadata": {},
   "outputs": [],
   "source": [
    "# Location : ;farzi_cafe"
   ]
  },
  {
   "cell_type": "code",
   "execution_count": 23,
   "id": "32dee424",
   "metadata": {},
   "outputs": [],
   "source": [
    "account['location'] = 'farzi_cafe'"
   ]
  },
  {
   "cell_type": "code",
   "execution_count": 24,
   "id": "1a40980e",
   "metadata": {},
   "outputs": [
    {
     "name": "stdout",
     "output_type": "stream",
     "text": [
      "{'first_name': 'code', 'last_name': 'training', 'user_name': 'ct_academy', 'dob': '01-01-2020', 'pwd': '54321', 'location': 'farzi_cafe'}\n"
     ]
    }
   ],
   "source": [
    "print(account)"
   ]
  },
  {
   "cell_type": "code",
   "execution_count": null,
   "id": "3d50b2d8",
   "metadata": {},
   "outputs": [],
   "source": []
  }
 ],
 "metadata": {
  "kernelspec": {
   "display_name": "Python 3 (ipykernel)",
   "language": "python",
   "name": "python3"
  },
  "language_info": {
   "codemirror_mode": {
    "name": "ipython",
    "version": 3
   },
   "file_extension": ".py",
   "mimetype": "text/x-python",
   "name": "python",
   "nbconvert_exporter": "python",
   "pygments_lexer": "ipython3",
   "version": "3.9.13"
  }
 },
 "nbformat": 4,
 "nbformat_minor": 5
}
