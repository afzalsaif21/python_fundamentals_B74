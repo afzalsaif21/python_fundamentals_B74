{
 "cells": [
  {
   "cell_type": "code",
   "execution_count": null,
   "id": "018886ab",
   "metadata": {},
   "outputs": [],
   "source": [
    "Introduction of python classes :"
   ]
  },
  {
   "cell_type": "code",
   "execution_count": null,
   "id": "68bb9db2",
   "metadata": {},
   "outputs": [],
   "source": [
    "Class : It is blue print of the program defined at a high level. =====>we have to use a keyword called class\n",
    "    \n",
    "method : A functionwrittem inside the class is called as method  ----def\n",
    "    \n",
    "attribute : a variable written/declared inside the class is called as an attribute\n",
    "    \n",
    "self : A self is a temporary placeholder for an object\n",
    "    \n",
    "object/instance : it is an access/ entry point to access the class methods.."
   ]
  },
  {
   "cell_type": "code",
   "execution_count": null,
   "id": "bb9c0cd3",
   "metadata": {},
   "outputs": [],
   "source": []
  },
  {
   "cell_type": "code",
   "execution_count": 5,
   "id": "de293718",
   "metadata": {},
   "outputs": [],
   "source": [
    "class ClassName:\n",
    "    \n",
    "    def createname(self,name):\n",
    "        self.name = name\n",
    "        \n",
    "    def displayname(self):\n",
    "        return self.name\n",
    "        \n",
    "    def greetname(self):\n",
    "        print(f\"Hello, {self.name}\")"
   ]
  },
  {
   "cell_type": "code",
   "execution_count": null,
   "id": "d6e52129",
   "metadata": {},
   "outputs": [],
   "source": []
  },
  {
   "cell_type": "code",
   "execution_count": 6,
   "id": "928ded31",
   "metadata": {},
   "outputs": [],
   "source": [
    "test = ClassName()"
   ]
  },
  {
   "cell_type": "code",
   "execution_count": 8,
   "id": "f57537a5",
   "metadata": {},
   "outputs": [],
   "source": [
    "test.createname('padma')"
   ]
  },
  {
   "cell_type": "code",
   "execution_count": 9,
   "id": "04644450",
   "metadata": {},
   "outputs": [
    {
     "data": {
      "text/plain": [
       "'padma'"
      ]
     },
     "execution_count": 9,
     "metadata": {},
     "output_type": "execute_result"
    }
   ],
   "source": [
    "test.displayname()"
   ]
  },
  {
   "cell_type": "code",
   "execution_count": 10,
   "id": "9449599d",
   "metadata": {},
   "outputs": [
    {
     "name": "stdout",
     "output_type": "stream",
     "text": [
      "Hello, padma\n"
     ]
    }
   ],
   "source": [
    "test.greetname()"
   ]
  },
  {
   "cell_type": "code",
   "execution_count": null,
   "id": "80870b96",
   "metadata": {},
   "outputs": [],
   "source": []
  },
  {
   "cell_type": "code",
   "execution_count": 12,
   "id": "a21265ae",
   "metadata": {},
   "outputs": [],
   "source": [
    "test2 = ClassName()"
   ]
  },
  {
   "cell_type": "code",
   "execution_count": 14,
   "id": "f4a06176",
   "metadata": {},
   "outputs": [],
   "source": [
    "test2.createname('divya')"
   ]
  },
  {
   "cell_type": "code",
   "execution_count": 15,
   "id": "183dbd2a",
   "metadata": {},
   "outputs": [
    {
     "data": {
      "text/plain": [
       "'divya'"
      ]
     },
     "execution_count": 15,
     "metadata": {},
     "output_type": "execute_result"
    }
   ],
   "source": [
    "test2.displayname()"
   ]
  },
  {
   "cell_type": "code",
   "execution_count": 16,
   "id": "d7523d74",
   "metadata": {},
   "outputs": [
    {
     "name": "stdout",
     "output_type": "stream",
     "text": [
      "Hello, divya\n"
     ]
    }
   ],
   "source": [
    "test2.greetname()"
   ]
  },
  {
   "cell_type": "code",
   "execution_count": null,
   "id": "91b6a916",
   "metadata": {},
   "outputs": [],
   "source": []
  },
  {
   "cell_type": "code",
   "execution_count": null,
   "id": "23e7d8cc",
   "metadata": {},
   "outputs": [],
   "source": [
    "OOps ------> Object oriented programming"
   ]
  },
  {
   "cell_type": "code",
   "execution_count": null,
   "id": "85533d65",
   "metadata": {},
   "outputs": [],
   "source": []
  },
  {
   "cell_type": "code",
   "execution_count": null,
   "id": "5e4b8ccb",
   "metadata": {},
   "outputs": [],
   "source": [
    "understanding the concept of contructor : it is called as a special method.....!"
   ]
  },
  {
   "cell_type": "code",
   "execution_count": null,
   "id": "0c61f967",
   "metadata": {},
   "outputs": [],
   "source": []
  },
  {
   "cell_type": "code",
   "execution_count": null,
   "id": "03751184",
   "metadata": {},
   "outputs": [],
   "source": [
    "__init__  ======> initiazing the attributes and the methods."
   ]
  },
  {
   "cell_type": "code",
   "execution_count": null,
   "id": "ecd8d747",
   "metadata": {},
   "outputs": [],
   "source": []
  },
  {
   "cell_type": "code",
   "execution_count": 6,
   "id": "3e9a44fc",
   "metadata": {},
   "outputs": [],
   "source": [
    "class Dog:\n",
    "    \"\"\"creating the dog class\"\"\"  # doc string \n",
    "    \n",
    "    def __init__(self,name,age):\n",
    "        self.name = name\n",
    "        self.age = age\n",
    "        \n",
    "    def sit(self):\n",
    "        print(\"the dog is sitting\")\n",
    "        \n",
    "    def roll_over(self):\n",
    "        print(f\"the dog is rolling over\")\n",
    "        \n",
    "    def details(self):\n",
    "        print(f\"I have a dog named {self.name}\")\n",
    "        print(f\"It is of {self.age} years old\")"
   ]
  },
  {
   "cell_type": "code",
   "execution_count": null,
   "id": "71d9f803",
   "metadata": {},
   "outputs": [],
   "source": []
  },
  {
   "cell_type": "code",
   "execution_count": null,
   "id": "11a4cfa9",
   "metadata": {},
   "outputs": [],
   "source": []
  },
  {
   "cell_type": "code",
   "execution_count": 10,
   "id": "ba8f51fd",
   "metadata": {},
   "outputs": [
    {
     "ename": "TypeError",
     "evalue": "__init__() missing 2 required positional arguments: 'name' and 'age'",
     "output_type": "error",
     "traceback": [
      "\u001b[1;31m---------------------------------------------------------------------------\u001b[0m",
      "\u001b[1;31mTypeError\u001b[0m                                 Traceback (most recent call last)",
      "\u001b[1;32m~\\AppData\\Local\\Temp\\ipykernel_2316\\3226080032.py\u001b[0m in \u001b[0;36m<module>\u001b[1;34m\u001b[0m\n\u001b[1;32m----> 1\u001b[1;33m \u001b[0mmy_dog\u001b[0m \u001b[1;33m=\u001b[0m \u001b[0mDog\u001b[0m\u001b[1;33m(\u001b[0m\u001b[1;33m)\u001b[0m\u001b[1;33m\u001b[0m\u001b[1;33m\u001b[0m\u001b[0m\n\u001b[0m",
      "\u001b[1;31mTypeError\u001b[0m: __init__() missing 2 required positional arguments: 'name' and 'age'"
     ]
    }
   ],
   "source": [
    "my_dog = Dog()"
   ]
  },
  {
   "cell_type": "code",
   "execution_count": 13,
   "id": "6d594ef9",
   "metadata": {},
   "outputs": [],
   "source": [
    "my_dog = Dog('bruno',6)"
   ]
  },
  {
   "cell_type": "code",
   "execution_count": 21,
   "id": "016529a8",
   "metadata": {},
   "outputs": [
    {
     "name": "stdout",
     "output_type": "stream",
     "text": [
      "the dog is sitting\n"
     ]
    }
   ],
   "source": [
    "my_dog.sit()"
   ]
  },
  {
   "cell_type": "code",
   "execution_count": 22,
   "id": "7ea9055e",
   "metadata": {},
   "outputs": [
    {
     "name": "stdout",
     "output_type": "stream",
     "text": [
      "the dog is rolling over\n"
     ]
    }
   ],
   "source": [
    "my_dog.roll_over()"
   ]
  },
  {
   "cell_type": "code",
   "execution_count": 23,
   "id": "b5062750",
   "metadata": {},
   "outputs": [
    {
     "name": "stdout",
     "output_type": "stream",
     "text": [
      "I have a dog named bruno\n",
      "It is of 6 years old\n"
     ]
    }
   ],
   "source": [
    "my_dog.details()"
   ]
  },
  {
   "cell_type": "code",
   "execution_count": null,
   "id": "a586b35f",
   "metadata": {},
   "outputs": [],
   "source": []
  },
  {
   "cell_type": "code",
   "execution_count": 25,
   "id": "f4e109d0",
   "metadata": {},
   "outputs": [],
   "source": [
    "your_dog = Dog('rex',3)"
   ]
  },
  {
   "cell_type": "code",
   "execution_count": 26,
   "id": "cc762e86",
   "metadata": {},
   "outputs": [
    {
     "name": "stdout",
     "output_type": "stream",
     "text": [
      "the dog is rolling over\n"
     ]
    }
   ],
   "source": [
    "your_dog.roll_over()"
   ]
  },
  {
   "cell_type": "code",
   "execution_count": null,
   "id": "62a69240",
   "metadata": {},
   "outputs": [],
   "source": []
  },
  {
   "cell_type": "code",
   "execution_count": null,
   "id": "34407d18",
   "metadata": {},
   "outputs": [],
   "source": []
  }
 ],
 "metadata": {
  "kernelspec": {
   "display_name": "Python 3 (ipykernel)",
   "language": "python",
   "name": "python3"
  },
  "language_info": {
   "codemirror_mode": {
    "name": "ipython",
    "version": 3
   },
   "file_extension": ".py",
   "mimetype": "text/x-python",
   "name": "python",
   "nbconvert_exporter": "python",
   "pygments_lexer": "ipython3",
   "version": "3.9.13"
  }
 },
 "nbformat": 4,
 "nbformat_minor": 5
}
