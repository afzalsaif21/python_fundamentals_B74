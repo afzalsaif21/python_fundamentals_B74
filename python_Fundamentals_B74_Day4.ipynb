{
 "cells": [
  {
   "cell_type": "code",
   "execution_count": null,
   "id": "50a3f16e",
   "metadata": {},
   "outputs": [],
   "source": [
    "Introduction to list datatype :"
   ]
  },
  {
   "cell_type": "code",
   "execution_count": null,
   "id": "62de46b8",
   "metadata": {},
   "outputs": [],
   "source": [
    "Defination : A list is a collection of items declared in a particular order\n",
    "    \n",
    "Classification : it is as an mutable datatype\n",
    "    \n",
    "how to declare the list datatypr......? ======[]"
   ]
  },
  {
   "cell_type": "code",
   "execution_count": null,
   "id": "dca9c4a6",
   "metadata": {},
   "outputs": [],
   "source": []
  },
  {
   "cell_type": "code",
   "execution_count": 1,
   "id": "ede08f11",
   "metadata": {},
   "outputs": [],
   "source": [
    "students = ['ravi','divya','sadiya','naveen','ahmed','suresh']"
   ]
  },
  {
   "cell_type": "code",
   "execution_count": 2,
   "id": "390ce5a7",
   "metadata": {},
   "outputs": [
    {
     "name": "stdout",
     "output_type": "stream",
     "text": [
      "['ravi', 'divya', 'sadiya', 'naveen', 'ahmed', 'suresh']\n"
     ]
    }
   ],
   "source": [
    "print(students)"
   ]
  },
  {
   "cell_type": "code",
   "execution_count": 3,
   "id": "f1322225",
   "metadata": {},
   "outputs": [
    {
     "data": {
      "text/plain": [
       "list"
      ]
     },
     "execution_count": 3,
     "metadata": {},
     "output_type": "execute_result"
    }
   ],
   "source": [
    "type(students)"
   ]
  },
  {
   "cell_type": "code",
   "execution_count": null,
   "id": "46e455a9",
   "metadata": {},
   "outputs": [],
   "source": [
    "Introduction to indexing :0,1,2,3,4.............."
   ]
  },
  {
   "cell_type": "code",
   "execution_count": null,
   "id": "0e0819cf",
   "metadata": {},
   "outputs": [],
   "source": [
    "# req : I want to get the divyas name in the op....?"
   ]
  },
  {
   "cell_type": "code",
   "execution_count": 4,
   "id": "8c99d073",
   "metadata": {},
   "outputs": [
    {
     "name": "stdout",
     "output_type": "stream",
     "text": [
      "divya\n"
     ]
    }
   ],
   "source": [
    "print(students[1])"
   ]
  },
  {
   "cell_type": "code",
   "execution_count": null,
   "id": "90f384f5",
   "metadata": {},
   "outputs": [],
   "source": [
    "# ahmed name ....?"
   ]
  },
  {
   "cell_type": "code",
   "execution_count": 6,
   "id": "a73d3390",
   "metadata": {},
   "outputs": [
    {
     "name": "stdout",
     "output_type": "stream",
     "text": [
      "ahmed\n"
     ]
    }
   ],
   "source": [
    "print(students[4])"
   ]
  },
  {
   "cell_type": "code",
   "execution_count": 8,
   "id": "a7eb6408",
   "metadata": {},
   "outputs": [
    {
     "name": "stdout",
     "output_type": "stream",
     "text": [
      "Ahmed\n"
     ]
    }
   ],
   "source": [
    "print(students[4].title())"
   ]
  },
  {
   "cell_type": "code",
   "execution_count": 9,
   "id": "5a56f4a0",
   "metadata": {},
   "outputs": [
    {
     "name": "stdout",
     "output_type": "stream",
     "text": [
      "['ravi', 'divya', 'sadiya', 'naveen', 'ahmed', 'suresh']\n"
     ]
    }
   ],
   "source": [
    "print(students)"
   ]
  },
  {
   "cell_type": "code",
   "execution_count": null,
   "id": "e538b48b",
   "metadata": {},
   "outputs": [],
   "source": [
    "1. how to add new students (element) to the list.....?\n",
    "\n",
    "2. how to modify the students in the list......?\n",
    "\n",
    "3. how to delete the students in the list.....?"
   ]
  },
  {
   "cell_type": "code",
   "execution_count": null,
   "id": "2a09bdfe",
   "metadata": {},
   "outputs": [],
   "source": []
  },
  {
   "cell_type": "code",
   "execution_count": null,
   "id": "3a0b1219",
   "metadata": {},
   "outputs": [],
   "source": [
    "# req : I want to add anand to the above list.....?"
   ]
  },
  {
   "cell_type": "code",
   "execution_count": 10,
   "id": "568bdd80",
   "metadata": {},
   "outputs": [],
   "source": [
    "students.append('anand')"
   ]
  },
  {
   "cell_type": "code",
   "execution_count": 11,
   "id": "0109579f",
   "metadata": {},
   "outputs": [
    {
     "name": "stdout",
     "output_type": "stream",
     "text": [
      "['ravi', 'divya', 'sadiya', 'naveen', 'ahmed', 'suresh', 'anand']\n"
     ]
    }
   ],
   "source": [
    "print(students)"
   ]
  },
  {
   "cell_type": "code",
   "execution_count": null,
   "id": "32656bd2",
   "metadata": {},
   "outputs": [],
   "source": [
    "# req : swathi"
   ]
  },
  {
   "cell_type": "code",
   "execution_count": 12,
   "id": "eb55df7b",
   "metadata": {},
   "outputs": [],
   "source": [
    "students.append('swathi')"
   ]
  },
  {
   "cell_type": "code",
   "execution_count": 13,
   "id": "26b84507",
   "metadata": {},
   "outputs": [
    {
     "name": "stdout",
     "output_type": "stream",
     "text": [
      "['ravi', 'divya', 'sadiya', 'naveen', 'ahmed', 'suresh', 'anand', 'swathi']\n"
     ]
    }
   ],
   "source": [
    "print(students)"
   ]
  },
  {
   "cell_type": "code",
   "execution_count": null,
   "id": "c7478ca0",
   "metadata": {},
   "outputs": [],
   "source": [
    "# req : deepa.....>2nd index"
   ]
  },
  {
   "cell_type": "code",
   "execution_count": 14,
   "id": "5fa80435",
   "metadata": {},
   "outputs": [],
   "source": [
    "students.insert(2,'deepa')"
   ]
  },
  {
   "cell_type": "code",
   "execution_count": 15,
   "id": "6ec3f840",
   "metadata": {},
   "outputs": [
    {
     "name": "stdout",
     "output_type": "stream",
     "text": [
      "['ravi', 'divya', 'deepa', 'sadiya', 'naveen', 'ahmed', 'suresh', 'anand', 'swathi']\n"
     ]
    }
   ],
   "source": [
    "print(students)"
   ]
  },
  {
   "cell_type": "code",
   "execution_count": 16,
   "id": "568b1542",
   "metadata": {},
   "outputs": [
    {
     "name": "stdout",
     "output_type": "stream",
     "text": [
      "Deepa\n"
     ]
    }
   ],
   "source": [
    "print(students[2]. title())"
   ]
  },
  {
   "cell_type": "code",
   "execution_count": null,
   "id": "478392ce",
   "metadata": {},
   "outputs": [],
   "source": [
    "Interview question : can you pls explain what is differene between append and insert methods in the list datatype.....?"
   ]
  },
  {
   "cell_type": "code",
   "execution_count": 17,
   "id": "73f4185b",
   "metadata": {},
   "outputs": [
    {
     "name": "stdout",
     "output_type": "stream",
     "text": [
      "['ravi', 'divya', 'deepa', 'sadiya', 'naveen', 'ahmed', 'suresh', 'anand', 'swathi']\n"
     ]
    }
   ],
   "source": [
    "print(students)"
   ]
  },
  {
   "cell_type": "code",
   "execution_count": null,
   "id": "5e2fca50",
   "metadata": {},
   "outputs": [],
   "source": [
    "# req : I want to modify ravi name to raju.....?"
   ]
  },
  {
   "cell_type": "code",
   "execution_count": 18,
   "id": "3aa80c73",
   "metadata": {},
   "outputs": [],
   "source": [
    "students[0] = 'raju'"
   ]
  },
  {
   "cell_type": "code",
   "execution_count": 19,
   "id": "db0510ae",
   "metadata": {},
   "outputs": [
    {
     "name": "stdout",
     "output_type": "stream",
     "text": [
      "['raju', 'divya', 'deepa', 'sadiya', 'naveen', 'ahmed', 'suresh', 'anand', 'swathi']\n"
     ]
    }
   ],
   "source": [
    "print(students)"
   ]
  },
  {
   "cell_type": "code",
   "execution_count": 22,
   "id": "7987163c",
   "metadata": {},
   "outputs": [],
   "source": [
    "del students[4] ======> permanent deleting"
   ]
  },
  {
   "cell_type": "code",
   "execution_count": 23,
   "id": "30deb1c9",
   "metadata": {},
   "outputs": [
    {
     "name": "stdout",
     "output_type": "stream",
     "text": [
      "['raju', 'divya', 'deepa', 'sadiya', 'ahmed', 'suresh', 'anand', 'swathi']\n"
     ]
    }
   ],
   "source": [
    "print(students)"
   ]
  },
  {
   "cell_type": "code",
   "execution_count": null,
   "id": "bdb2c644",
   "metadata": {},
   "outputs": [],
   "source": [
    "pop ------> by default it will be deleting the last element from the list and will be saving in the variable assigned."
   ]
  },
  {
   "cell_type": "code",
   "execution_count": 24,
   "id": "5681fea3",
   "metadata": {},
   "outputs": [
    {
     "name": "stdout",
     "output_type": "stream",
     "text": [
      "['raju', 'divya', 'deepa', 'sadiya', 'ahmed', 'suresh', 'anand', 'swathi']\n"
     ]
    }
   ],
   "source": [
    "print(students)"
   ]
  },
  {
   "cell_type": "code",
   "execution_count": 25,
   "id": "4062a41d",
   "metadata": {},
   "outputs": [],
   "source": [
    "x = students.pop()"
   ]
  },
  {
   "cell_type": "code",
   "execution_count": 26,
   "id": "678e66c6",
   "metadata": {},
   "outputs": [
    {
     "name": "stdout",
     "output_type": "stream",
     "text": [
      "['raju', 'divya', 'deepa', 'sadiya', 'ahmed', 'suresh', 'anand']\n"
     ]
    }
   ],
   "source": [
    "print(students)"
   ]
  },
  {
   "cell_type": "code",
   "execution_count": 27,
   "id": "b2871e9c",
   "metadata": {},
   "outputs": [
    {
     "name": "stdout",
     "output_type": "stream",
     "text": [
      "swathi\n"
     ]
    }
   ],
   "source": [
    "print(x)"
   ]
  },
  {
   "cell_type": "code",
   "execution_count": null,
   "id": "155f4aad",
   "metadata": {},
   "outputs": [],
   "source": [
    "interview question : what is the difference between delete and pop methods in the list datatype...."
   ]
  },
  {
   "cell_type": "code",
   "execution_count": null,
   "id": "65e60b65",
   "metadata": {},
   "outputs": [],
   "source": [
    "0,1,2,3......"
   ]
  },
  {
   "cell_type": "code",
   "execution_count": null,
   "id": "f78ed2df",
   "metadata": {},
   "outputs": [],
   "source": [
    "Introduction to negative indexing : -1,-2,-3....: reverse indexing."
   ]
  },
  {
   "cell_type": "code",
   "execution_count": 28,
   "id": "bc7e2cb0",
   "metadata": {},
   "outputs": [
    {
     "name": "stdout",
     "output_type": "stream",
     "text": [
      "['raju', 'divya', 'deepa', 'sadiya', 'ahmed', 'suresh', 'anand']\n"
     ]
    }
   ],
   "source": [
    "print(students)"
   ]
  },
  {
   "cell_type": "code",
   "execution_count": 29,
   "id": "c1b4d76d",
   "metadata": {},
   "outputs": [
    {
     "name": "stdout",
     "output_type": "stream",
     "text": [
      "anand\n"
     ]
    }
   ],
   "source": [
    "print(students[-1])"
   ]
  },
  {
   "cell_type": "code",
   "execution_count": null,
   "id": "a6fef219",
   "metadata": {},
   "outputs": [],
   "source": []
  }
 ],
 "metadata": {
  "kernelspec": {
   "display_name": "Python 3 (ipykernel)",
   "language": "python",
   "name": "python3"
  },
  "language_info": {
   "codemirror_mode": {
    "name": "ipython",
    "version": 3
   },
   "file_extension": ".py",
   "mimetype": "text/x-python",
   "name": "python",
   "nbconvert_exporter": "python",
   "pygments_lexer": "ipython3",
   "version": "3.9.13"
  }
 },
 "nbformat": 4,
 "nbformat_minor": 5
}
