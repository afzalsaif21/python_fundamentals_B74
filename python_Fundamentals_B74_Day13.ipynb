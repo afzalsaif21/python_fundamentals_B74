{
 "cells": [
  {
   "cell_type": "code",
   "execution_count": null,
   "id": "7a379760",
   "metadata": {},
   "outputs": [],
   "source": [
    "File handling in python :"
   ]
  },
  {
   "cell_type": "code",
   "execution_count": null,
   "id": "88d75d3b",
   "metadata": {},
   "outputs": [],
   "source": []
  },
  {
   "cell_type": "code",
   "execution_count": null,
   "id": "d4813a5b",
   "metadata": {},
   "outputs": [],
   "source": [
    "1. how to read the file in python\n",
    "\n",
    "2. how to write the file in python\n",
    "\n",
    "3. how to append the files in python"
   ]
  },
  {
   "cell_type": "code",
   "execution_count": null,
   "id": "5f398dc5",
   "metadata": {},
   "outputs": [],
   "source": []
  },
  {
   "cell_type": "code",
   "execution_count": null,
   "id": "6dba36aa",
   "metadata": {},
   "outputs": [],
   "source": [
    "1. how to read the files in python"
   ]
  },
  {
   "cell_type": "code",
   "execution_count": null,
   "id": "153b132b",
   "metadata": {},
   "outputs": [],
   "source": []
  },
  {
   "cell_type": "code",
   "execution_count": 6,
   "id": "8fcf242f",
   "metadata": {},
   "outputs": [],
   "source": [
    "file = open('numbers.txt','r')"
   ]
  },
  {
   "cell_type": "code",
   "execution_count": 7,
   "id": "178339e1",
   "metadata": {},
   "outputs": [
    {
     "name": "stdout",
     "output_type": "stream",
     "text": [
      "123\n",
      "456\n",
      "678\n"
     ]
    }
   ],
   "source": [
    "print(file.read())"
   ]
  },
  {
   "cell_type": "code",
   "execution_count": null,
   "id": "4326de6f",
   "metadata": {},
   "outputs": [],
   "source": []
  },
  {
   "cell_type": "code",
   "execution_count": null,
   "id": "8bff815c",
   "metadata": {},
   "outputs": [],
   "source": [
    "2. how to write the files in python"
   ]
  },
  {
   "cell_type": "code",
   "execution_count": 16,
   "id": "2a05c989",
   "metadata": {},
   "outputs": [],
   "source": [
    "file = open('numbers.text','w')"
   ]
  },
  {
   "cell_type": "code",
   "execution_count": 17,
   "id": "afacb38d",
   "metadata": {},
   "outputs": [
    {
     "data": {
      "text/plain": [
       "32"
      ]
     },
     "execution_count": 17,
     "metadata": {},
     "output_type": "execute_result"
    }
   ],
   "source": [
    "file.write(\"this is test\")\n",
    "file.write('to verify how the data is coming')\n",
    "#file.close()"
   ]
  },
  {
   "cell_type": "code",
   "execution_count": 18,
   "id": "cb1b4bb4",
   "metadata": {},
   "outputs": [
    {
     "ename": "UnsupportedOperation",
     "evalue": "not readable",
     "output_type": "error",
     "traceback": [
      "\u001b[1;31m---------------------------------------------------------------------------\u001b[0m",
      "\u001b[1;31mUnsupportedOperation\u001b[0m                      Traceback (most recent call last)",
      "\u001b[1;32m~\\AppData\\Local\\Temp\\ipykernel_4312\\1097866510.py\u001b[0m in \u001b[0;36m<module>\u001b[1;34m\u001b[0m\n\u001b[1;32m----> 1\u001b[1;33m \u001b[0mprint\u001b[0m\u001b[1;33m(\u001b[0m\u001b[0mfile\u001b[0m\u001b[1;33m.\u001b[0m\u001b[0mread\u001b[0m\u001b[1;33m(\u001b[0m\u001b[1;33m)\u001b[0m\u001b[1;33m)\u001b[0m\u001b[1;33m\u001b[0m\u001b[1;33m\u001b[0m\u001b[0m\n\u001b[0m",
      "\u001b[1;31mUnsupportedOperation\u001b[0m: not readable"
     ]
    }
   ],
   "source": [
    "print(file.read())"
   ]
  },
  {
   "cell_type": "code",
   "execution_count": null,
   "id": "beb6b618",
   "metadata": {},
   "outputs": [],
   "source": []
  },
  {
   "cell_type": "code",
   "execution_count": 22,
   "id": "2c670618",
   "metadata": {},
   "outputs": [],
   "source": [
    "file = open('numbers.text','r')"
   ]
  },
  {
   "cell_type": "code",
   "execution_count": 23,
   "id": "7bf2f138",
   "metadata": {},
   "outputs": [
    {
     "name": "stdout",
     "output_type": "stream",
     "text": [
      "this is testto verify how the data is coming\n"
     ]
    }
   ],
   "source": [
    "print(file.read())"
   ]
  },
  {
   "cell_type": "code",
   "execution_count": null,
   "id": "1ec11b22",
   "metadata": {},
   "outputs": [],
   "source": []
  },
  {
   "cell_type": "code",
   "execution_count": null,
   "id": "58898694",
   "metadata": {},
   "outputs": [],
   "source": [
    "append mode : old + new data will be there in the file"
   ]
  },
  {
   "cell_type": "code",
   "execution_count": null,
   "id": "1e5dd39a",
   "metadata": {},
   "outputs": [],
   "source": []
  },
  {
   "cell_type": "code",
   "execution_count": 25,
   "id": "cc55162b",
   "metadata": {},
   "outputs": [],
   "source": [
    "file = open('numbers.text','a')"
   ]
  },
  {
   "cell_type": "code",
   "execution_count": 26,
   "id": "cb559420",
   "metadata": {},
   "outputs": [
    {
     "data": {
      "text/plain": [
       "29"
      ]
     },
     "execution_count": 26,
     "metadata": {},
     "output_type": "execute_result"
    }
   ],
   "source": [
    "file.write(\"\\nthis is the append operation\")"
   ]
  },
  {
   "cell_type": "code",
   "execution_count": 28,
   "id": "ebd84b53",
   "metadata": {},
   "outputs": [],
   "source": [
    "file = open('numbers.text','r')"
   ]
  },
  {
   "cell_type": "code",
   "execution_count": 29,
   "id": "382c65cc",
   "metadata": {},
   "outputs": [
    {
     "name": "stdout",
     "output_type": "stream",
     "text": [
      "this is testto verify how the data is coming\n",
      "this is the append operation\n"
     ]
    }
   ],
   "source": [
    "print(file.read())"
   ]
  },
  {
   "cell_type": "code",
   "execution_count": null,
   "id": "285e8ab8",
   "metadata": {},
   "outputs": [],
   "source": []
  },
  {
   "cell_type": "code",
   "execution_count": null,
   "id": "a2815774",
   "metadata": {},
   "outputs": [],
   "source": []
  },
  {
   "cell_type": "code",
   "execution_count": null,
   "id": "73a3a39d",
   "metadata": {},
   "outputs": [],
   "source": []
  },
  {
   "cell_type": "code",
   "execution_count": null,
   "id": "9f4c1dce",
   "metadata": {},
   "outputs": [],
   "source": []
  }
 ],
 "metadata": {
  "kernelspec": {
   "display_name": "Python 3 (ipykernel)",
   "language": "python",
   "name": "python3"
  },
  "language_info": {
   "codemirror_mode": {
    "name": "ipython",
    "version": 3
   },
   "file_extension": ".py",
   "mimetype": "text/x-python",
   "name": "python",
   "nbconvert_exporter": "python",
   "pygments_lexer": "ipython3",
   "version": "3.9.13"
  }
 },
 "nbformat": 4,
 "nbformat_minor": 5
}
