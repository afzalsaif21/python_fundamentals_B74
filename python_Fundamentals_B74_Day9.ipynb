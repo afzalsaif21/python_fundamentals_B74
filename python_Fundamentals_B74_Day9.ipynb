{
 "cells": [
  {
   "cell_type": "code",
   "execution_count": null,
   "id": "75f43d0d",
   "metadata": {},
   "outputs": [],
   "source": [
    "continuation with the dictionary type"
   ]
  },
  {
   "cell_type": "code",
   "execution_count": null,
   "id": "f9153a75",
   "metadata": {},
   "outputs": [],
   "source": []
  },
  {
   "cell_type": "code",
   "execution_count": null,
   "id": "cd940e21",
   "metadata": {},
   "outputs": [],
   "source": [
    "Implementation of for loop on the dictionary :"
   ]
  },
  {
   "cell_type": "code",
   "execution_count": null,
   "id": "43d31522",
   "metadata": {},
   "outputs": [],
   "source": []
  },
  {
   "cell_type": "code",
   "execution_count": 2,
   "id": "b5a7b106",
   "metadata": {},
   "outputs": [],
   "source": [
    "aliens = {'color':'green', 'points':5,'leavel':1}"
   ]
  },
  {
   "cell_type": "code",
   "execution_count": 3,
   "id": "68a1a759",
   "metadata": {},
   "outputs": [
    {
     "name": "stdout",
     "output_type": "stream",
     "text": [
      "{'color': 'green', 'points': 5, 'leavel': 1}\n"
     ]
    }
   ],
   "source": [
    "print(aliens)"
   ]
  },
  {
   "cell_type": "code",
   "execution_count": 4,
   "id": "c7ac4573",
   "metadata": {},
   "outputs": [
    {
     "data": {
      "text/plain": [
       "dict"
      ]
     },
     "execution_count": 4,
     "metadata": {},
     "output_type": "execute_result"
    }
   ],
   "source": [
    "type(aliens)"
   ]
  },
  {
   "cell_type": "code",
   "execution_count": null,
   "id": "a0c06b87",
   "metadata": {},
   "outputs": [],
   "source": []
  },
  {
   "cell_type": "code",
   "execution_count": null,
   "id": "fb1257b8",
   "metadata": {},
   "outputs": [],
   "source": [
    "# general syntax of for loop:"
   ]
  },
  {
   "cell_type": "code",
   "execution_count": null,
   "id": "f096b6c9",
   "metadata": {},
   "outputs": [],
   "source": [
    "for temp_var1, temp_var2 in mainvar.items()\n",
    "    print(temp_var1)\n",
    "    print(temp_var2)"
   ]
  },
  {
   "cell_type": "code",
   "execution_count": null,
   "id": "6e4137cf",
   "metadata": {},
   "outputs": [],
   "source": []
  },
  {
   "cell_type": "code",
   "execution_count": 5,
   "id": "33636669",
   "metadata": {},
   "outputs": [
    {
     "name": "stdout",
     "output_type": "stream",
     "text": [
      "color\n",
      "green\n",
      "points\n",
      "5\n",
      "leavel\n",
      "1\n"
     ]
    }
   ],
   "source": [
    "for x,y in aliens.items():\n",
    "    print(x)\n",
    "    print(y)"
   ]
  },
  {
   "cell_type": "code",
   "execution_count": 7,
   "id": "f5607474",
   "metadata": {},
   "outputs": [
    {
     "name": "stdout",
     "output_type": "stream",
     "text": [
      "key:color\n",
      "value:green\n",
      "key:points\n",
      "value:5\n",
      "key:leavel\n",
      "value:1\n"
     ]
    }
   ],
   "source": [
    "for x, y in aliens.items():\n",
    "    print(f\"key:{x}\")\n",
    "    print(f\"value:{y}\")"
   ]
  },
  {
   "cell_type": "code",
   "execution_count": 11,
   "id": "12a69eda",
   "metadata": {},
   "outputs": [
    {
     "name": "stdout",
     "output_type": "stream",
     "text": [
      "key:color\n",
      "value:green\n",
      "\n",
      "key:points\n",
      "value:5\n",
      "\n",
      "key:leavel\n",
      "value:1\n",
      "\n"
     ]
    }
   ],
   "source": [
    "for x, y in aliens.items():\n",
    "    print(f\"key:{x}\")\n",
    "    print(f\"value:{y}\\n\")"
   ]
  },
  {
   "cell_type": "code",
   "execution_count": null,
   "id": "1913489c",
   "metadata": {},
   "outputs": [],
   "source": [
    "Introduction to conditional statement :"
   ]
  },
  {
   "cell_type": "code",
   "execution_count": null,
   "id": "fb070731",
   "metadata": {},
   "outputs": [],
   "source": [
    "# if else--------------> conditions"
   ]
  },
  {
   "cell_type": "code",
   "execution_count": null,
   "id": "5a0d1993",
   "metadata": {},
   "outputs": [],
   "source": []
  },
  {
   "cell_type": "code",
   "execution_count": null,
   "id": "e26e2472",
   "metadata": {},
   "outputs": [],
   "source": []
  },
  {
   "cell_type": "code",
   "execution_count": null,
   "id": "a80ed51c",
   "metadata": {},
   "outputs": [],
   "source": []
  },
  {
   "cell_type": "code",
   "execution_count": null,
   "id": "ea11e697",
   "metadata": {},
   "outputs": [],
   "source": []
  }
 ],
 "metadata": {
  "kernelspec": {
   "display_name": "Python 3 (ipykernel)",
   "language": "python",
   "name": "python3"
  },
  "language_info": {
   "codemirror_mode": {
    "name": "ipython",
    "version": 3
   },
   "file_extension": ".py",
   "mimetype": "text/x-python",
   "name": "python",
   "nbconvert_exporter": "python",
   "pygments_lexer": "ipython3",
   "version": "3.9.13"
  }
 },
 "nbformat": 4,
 "nbformat_minor": 5
}
