{
 "cells": [
  {
   "cell_type": "code",
   "execution_count": null,
   "id": "355f6fb8",
   "metadata": {},
   "outputs": [],
   "source": [
    "Introduction to list datatype :"
   ]
  },
  {
   "cell_type": "code",
   "execution_count": null,
   "id": "34a2f78d",
   "metadata": {},
   "outputs": [],
   "source": [
    "Defination : A list is a collection of items declared in a particular order\n",
    "    \n",
    "Classification : it is as an mutable datatype\n",
    "    \n",
    "how to declare the list datatypr......? ======[]"
   ]
  },
  {
   "cell_type": "code",
   "execution_count": null,
   "id": "793e9d63",
   "metadata": {},
   "outputs": [],
   "source": []
  },
  {
   "cell_type": "code",
   "execution_count": 1,
   "id": "a2835262",
   "metadata": {},
   "outputs": [],
   "source": [
    "students = ['ravi','divya','sadiya','naveen','ahmed','suresh']"
   ]
  },
  {
   "cell_type": "code",
   "execution_count": 2,
   "id": "17bd6121",
   "metadata": {},
   "outputs": [
    {
     "name": "stdout",
     "output_type": "stream",
     "text": [
      "['ravi', 'divya', 'sadiya', 'naveen', 'ahmed', 'suresh']\n"
     ]
    }
   ],
   "source": [
    "print(students)"
   ]
  },
  {
   "cell_type": "code",
   "execution_count": 3,
   "id": "f1884ea2",
   "metadata": {},
   "outputs": [
    {
     "data": {
      "text/plain": [
       "list"
      ]
     },
     "execution_count": 3,
     "metadata": {},
     "output_type": "execute_result"
    }
   ],
   "source": [
    "type(students)"
   ]
  },
  {
   "cell_type": "code",
   "execution_count": null,
   "id": "7275d7c4",
   "metadata": {},
   "outputs": [],
   "source": [
    "Introduction to indexing :0,1,2,3,4.............."
   ]
  },
  {
   "cell_type": "code",
   "execution_count": null,
   "id": "6d886970",
   "metadata": {},
   "outputs": [],
   "source": [
    "# req : I want to get the divyas name in the op....?"
   ]
  },
  {
   "cell_type": "code",
   "execution_count": 4,
   "id": "0b6710a5",
   "metadata": {},
   "outputs": [
    {
     "name": "stdout",
     "output_type": "stream",
     "text": [
      "divya\n"
     ]
    }
   ],
   "source": [
    "print(students[1])"
   ]
  },
  {
   "cell_type": "code",
   "execution_count": null,
   "id": "33714243",
   "metadata": {},
   "outputs": [],
   "source": [
    "# ahmed name ....?"
   ]
  },
  {
   "cell_type": "code",
   "execution_count": 6,
   "id": "32bd5a2d",
   "metadata": {},
   "outputs": [
    {
     "name": "stdout",
     "output_type": "stream",
     "text": [
      "ahmed\n"
     ]
    }
   ],
   "source": [
    "print(students[4])"
   ]
  },
  {
   "cell_type": "code",
   "execution_count": 8,
   "id": "14708aea",
   "metadata": {},
   "outputs": [
    {
     "name": "stdout",
     "output_type": "stream",
     "text": [
      "Ahmed\n"
     ]
    }
   ],
   "source": [
    "print(students[4].title())"
   ]
  },
  {
   "cell_type": "code",
   "execution_count": 9,
   "id": "22d122ef",
   "metadata": {},
   "outputs": [
    {
     "name": "stdout",
     "output_type": "stream",
     "text": [
      "['ravi', 'divya', 'sadiya', 'naveen', 'ahmed', 'suresh']\n"
     ]
    }
   ],
   "source": [
    "print(students)"
   ]
  },
  {
   "cell_type": "code",
   "execution_count": null,
   "id": "4edf65f0",
   "metadata": {},
   "outputs": [],
   "source": [
    "1. how to add new students (element) to the list.....?\n",
    "\n",
    "2. how to modify the students in the list......?\n",
    "\n",
    "3. how to delete the students in the list.....?"
   ]
  },
  {
   "cell_type": "code",
   "execution_count": null,
   "id": "dd90f437",
   "metadata": {},
   "outputs": [],
   "source": []
  },
  {
   "cell_type": "code",
   "execution_count": null,
   "id": "c9096296",
   "metadata": {},
   "outputs": [],
   "source": [
    "# req : I want to add anand to the above list.....?"
   ]
  },
  {
   "cell_type": "code",
   "execution_count": 10,
   "id": "74cf37da",
   "metadata": {},
   "outputs": [],
   "source": [
    "students.append('anand')"
   ]
  },
  {
   "cell_type": "code",
   "execution_count": 11,
   "id": "ee70c785",
   "metadata": {},
   "outputs": [
    {
     "name": "stdout",
     "output_type": "stream",
     "text": [
      "['ravi', 'divya', 'sadiya', 'naveen', 'ahmed', 'suresh', 'anand']\n"
     ]
    }
   ],
   "source": [
    "print(students)"
   ]
  },
  {
   "cell_type": "code",
   "execution_count": null,
   "id": "297e9e37",
   "metadata": {},
   "outputs": [],
   "source": [
    "# req : swathi"
   ]
  },
  {
   "cell_type": "code",
   "execution_count": 12,
   "id": "6adfaf67",
   "metadata": {},
   "outputs": [],
   "source": [
    "students.append('swathi')"
   ]
  },
  {
   "cell_type": "code",
   "execution_count": 13,
   "id": "cc8dc042",
   "metadata": {},
   "outputs": [
    {
     "name": "stdout",
     "output_type": "stream",
     "text": [
      "['ravi', 'divya', 'sadiya', 'naveen', 'ahmed', 'suresh', 'anand', 'swathi']\n"
     ]
    }
   ],
   "source": [
    "print(students)"
   ]
  },
  {
   "cell_type": "code",
   "execution_count": null,
   "id": "84ee3c92",
   "metadata": {},
   "outputs": [],
   "source": [
    "# req : deepa.....>2nd index"
   ]
  },
  {
   "cell_type": "code",
   "execution_count": 14,
   "id": "9cc37e42",
   "metadata": {},
   "outputs": [],
   "source": [
    "students.insert(2,'deepa')"
   ]
  },
  {
   "cell_type": "code",
   "execution_count": 15,
   "id": "69cbd570",
   "metadata": {},
   "outputs": [
    {
     "name": "stdout",
     "output_type": "stream",
     "text": [
      "['ravi', 'divya', 'deepa', 'sadiya', 'naveen', 'ahmed', 'suresh', 'anand', 'swathi']\n"
     ]
    }
   ],
   "source": [
    "print(students)"
   ]
  },
  {
   "cell_type": "code",
   "execution_count": 16,
   "id": "4cb03b2e",
   "metadata": {},
   "outputs": [
    {
     "name": "stdout",
     "output_type": "stream",
     "text": [
      "Deepa\n"
     ]
    }
   ],
   "source": [
    "print(students[2]. title())"
   ]
  },
  {
   "cell_type": "code",
   "execution_count": null,
   "id": "0516a06a",
   "metadata": {},
   "outputs": [],
   "source": [
    "Interview question : can you pls explain what is differene between append and insert methods in the list datatype.....?"
   ]
  },
  {
   "cell_type": "code",
   "execution_count": 17,
   "id": "b0872e10",
   "metadata": {},
   "outputs": [
    {
     "name": "stdout",
     "output_type": "stream",
     "text": [
      "['ravi', 'divya', 'deepa', 'sadiya', 'naveen', 'ahmed', 'suresh', 'anand', 'swathi']\n"
     ]
    }
   ],
   "source": [
    "print(students)"
   ]
  },
  {
   "cell_type": "code",
   "execution_count": null,
   "id": "eebe1f56",
   "metadata": {},
   "outputs": [],
   "source": [
    "# req : I want to modify ravi name to raju.....?"
   ]
  },
  {
   "cell_type": "code",
   "execution_count": 18,
   "id": "ed093e9c",
   "metadata": {},
   "outputs": [],
   "source": [
    "students[0] = 'raju'"
   ]
  },
  {
   "cell_type": "code",
   "execution_count": 19,
   "id": "a6298181",
   "metadata": {},
   "outputs": [
    {
     "name": "stdout",
     "output_type": "stream",
     "text": [
      "['raju', 'divya', 'deepa', 'sadiya', 'naveen', 'ahmed', 'suresh', 'anand', 'swathi']\n"
     ]
    }
   ],
   "source": [
    "print(students)"
   ]
  },
  {
   "cell_type": "code",
   "execution_count": 22,
   "id": "9c33a309",
   "metadata": {},
   "outputs": [],
   "source": [
    "del students[4] ======> permanent deleting"
   ]
  },
  {
   "cell_type": "code",
   "execution_count": 23,
   "id": "7fc45536",
   "metadata": {},
   "outputs": [
    {
     "name": "stdout",
     "output_type": "stream",
     "text": [
      "['raju', 'divya', 'deepa', 'sadiya', 'ahmed', 'suresh', 'anand', 'swathi']\n"
     ]
    }
   ],
   "source": [
    "print(students)"
   ]
  },
  {
   "cell_type": "code",
   "execution_count": null,
   "id": "c1a635ba",
   "metadata": {},
   "outputs": [],
   "source": [
    "pop ------> by default it will be deleting the last element from the list and will be saving in the variable assigned."
   ]
  },
  {
   "cell_type": "code",
   "execution_count": 24,
   "id": "c40d9451",
   "metadata": {},
   "outputs": [
    {
     "name": "stdout",
     "output_type": "stream",
     "text": [
      "['raju', 'divya', 'deepa', 'sadiya', 'ahmed', 'suresh', 'anand', 'swathi']\n"
     ]
    }
   ],
   "source": [
    "print(students)"
   ]
  },
  {
   "cell_type": "code",
   "execution_count": 25,
   "id": "e6d8bcf8",
   "metadata": {},
   "outputs": [],
   "source": [
    "x = students.pop()"
   ]
  },
  {
   "cell_type": "code",
   "execution_count": 26,
   "id": "8fe492e6",
   "metadata": {},
   "outputs": [
    {
     "name": "stdout",
     "output_type": "stream",
     "text": [
      "['raju', 'divya', 'deepa', 'sadiya', 'ahmed', 'suresh', 'anand']\n"
     ]
    }
   ],
   "source": [
    "print(students)"
   ]
  },
  {
   "cell_type": "code",
   "execution_count": 27,
   "id": "7e1e0111",
   "metadata": {},
   "outputs": [
    {
     "name": "stdout",
     "output_type": "stream",
     "text": [
      "swathi\n"
     ]
    }
   ],
   "source": [
    "print(x)"
   ]
  },
  {
   "cell_type": "code",
   "execution_count": null,
   "id": "86135e8e",
   "metadata": {},
   "outputs": [],
   "source": [
    "interview question : what is the difference between delete and pop methods in the list datatype...."
   ]
  },
  {
   "cell_type": "code",
   "execution_count": null,
   "id": "84e4c7cd",
   "metadata": {},
   "outputs": [],
   "source": [
    "0,1,2,3......"
   ]
  },
  {
   "cell_type": "code",
   "execution_count": null,
   "id": "2718487d",
   "metadata": {},
   "outputs": [],
   "source": [
    "Introduction to negative indexing : -1,-2,-3....: reverse indexing."
   ]
  },
  {
   "cell_type": "code",
   "execution_count": 28,
   "id": "78d46f26",
   "metadata": {},
   "outputs": [
    {
     "name": "stdout",
     "output_type": "stream",
     "text": [
      "['raju', 'divya', 'deepa', 'sadiya', 'ahmed', 'suresh', 'anand']\n"
     ]
    }
   ],
   "source": [
    "print(students)"
   ]
  },
  {
   "cell_type": "code",
   "execution_count": 29,
   "id": "a1cf643f",
   "metadata": {},
   "outputs": [
    {
     "name": "stdout",
     "output_type": "stream",
     "text": [
      "anand\n"
     ]
    }
   ],
   "source": [
    "print(students[-1])"
   ]
  },
  {
   "cell_type": "code",
   "execution_count": 30,
   "id": "88d9d5e4",
   "metadata": {},
   "outputs": [
    {
     "name": "stdout",
     "output_type": "stream",
     "text": [
      "The Zen of Python, by Tim Peters\n",
      "\n",
      "Beautiful is better than ugly.\n",
      "Explicit is better than implicit.\n",
      "Simple is better than complex.\n",
      "Complex is better than complicated.\n",
      "Flat is better than nested.\n",
      "Sparse is better than dense.\n",
      "Readability counts.\n",
      "Special cases aren't special enough to break the rules.\n",
      "Although practicality beats purity.\n",
      "Errors should never pass silently.\n",
      "Unless explicitly silenced.\n",
      "In the face of ambiguity, refuse the temptation to guess.\n",
      "There should be one-- and preferably only one --obvious way to do it.\n",
      "Although that way may not be obvious at first unless you're Dutch.\n",
      "Now is better than never.\n",
      "Although never is often better than *right* now.\n",
      "If the implementation is hard to explain, it's a bad idea.\n",
      "If the implementation is easy to explain, it may be a good idea.\n",
      "Namespaces are one honking great idea -- let's do more of those!\n"
     ]
    }
   ],
   "source": [
    "import this"
   ]
  },
  {
   "cell_type": "code",
   "execution_count": null,
   "id": "cc297ee9",
   "metadata": {},
   "outputs": [],
   "source": []
  }
 ],
 "metadata": {
  "kernelspec": {
   "display_name": "Python 3 (ipykernel)",
   "language": "python",
   "name": "python3"
  },
  "language_info": {
   "codemirror_mode": {
    "name": "ipython",
    "version": 3
   },
   "file_extension": ".py",
   "mimetype": "text/x-python",
   "name": "python",
   "nbconvert_exporter": "python",
   "pygments_lexer": "ipython3",
   "version": "3.9.13"
  }
 },
 "nbformat": 4,
 "nbformat_minor": 5
}
