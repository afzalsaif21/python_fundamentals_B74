{
 "cells": [
  {
   "cell_type": "code",
   "execution_count": null,
   "id": "940fde1a",
   "metadata": {},
   "outputs": [],
   "source": [
    "Continuation with conditional statement:"
   ]
  },
  {
   "cell_type": "code",
   "execution_count": null,
   "id": "4e122395",
   "metadata": {},
   "outputs": [],
   "source": [
    "if else conditions."
   ]
  },
  {
   "cell_type": "code",
   "execution_count": null,
   "id": "78c7d595",
   "metadata": {},
   "outputs": [],
   "source": []
  },
  {
   "cell_type": "code",
   "execution_count": null,
   "id": "b4373624",
   "metadata": {},
   "outputs": [],
   "source": [
    "# req : to build a voting application"
   ]
  },
  {
   "cell_type": "code",
   "execution_count": null,
   "id": "70b6fd22",
   "metadata": {},
   "outputs": [],
   "source": [
    "18 or >= 18 years of age"
   ]
  },
  {
   "cell_type": "code",
   "execution_count": null,
   "id": "fc319147",
   "metadata": {},
   "outputs": [],
   "source": []
  },
  {
   "cell_type": "code",
   "execution_count": 1,
   "id": "a7d831a2",
   "metadata": {},
   "outputs": [
    {
     "name": "stdout",
     "output_type": "stream",
     "text": [
      "enter your age25\n",
      "25\n"
     ]
    }
   ],
   "source": [
    "age = input(\"enter your age\")\n",
    "print(age)"
   ]
  },
  {
   "cell_type": "code",
   "execution_count": 2,
   "id": "ee82c7d6",
   "metadata": {},
   "outputs": [
    {
     "data": {
      "text/plain": [
       "str"
      ]
     },
     "execution_count": 2,
     "metadata": {},
     "output_type": "execute_result"
    }
   ],
   "source": [
    "type(age)"
   ]
  },
  {
   "cell_type": "code",
   "execution_count": null,
   "id": "1168e653",
   "metadata": {},
   "outputs": [],
   "source": [
    "# note : by default input method will be taking the input as in the string format."
   ]
  },
  {
   "cell_type": "code",
   "execution_count": null,
   "id": "beb79075",
   "metadata": {},
   "outputs": [],
   "source": []
  },
  {
   "cell_type": "code",
   "execution_count": 3,
   "id": "68710259",
   "metadata": {},
   "outputs": [
    {
     "name": "stdout",
     "output_type": "stream",
     "text": [
      "enter your age26\n",
      "26\n"
     ]
    }
   ],
   "source": [
    "age = input(\"enter your age\")\n",
    "age = int(age)\n",
    "print(age)"
   ]
  },
  {
   "cell_type": "code",
   "execution_count": 4,
   "id": "fd44eaef",
   "metadata": {},
   "outputs": [
    {
     "data": {
      "text/plain": [
       "int"
      ]
     },
     "execution_count": 4,
     "metadata": {},
     "output_type": "execute_result"
    }
   ],
   "source": [
    "type(age)"
   ]
  },
  {
   "cell_type": "code",
   "execution_count": 5,
   "id": "86629f95",
   "metadata": {},
   "outputs": [
    {
     "name": "stdout",
     "output_type": "stream",
     "text": [
      "you are eligible to vote\n"
     ]
    }
   ],
   "source": [
    "if age >= 18:\n",
    "    print(\"you are eligible to vote\")\n",
    "else:\n",
    "    print(\"try next year\")"
   ]
  },
  {
   "cell_type": "code",
   "execution_count": null,
   "id": "8623a592",
   "metadata": {},
   "outputs": [],
   "source": []
  },
  {
   "cell_type": "code",
   "execution_count": 6,
   "id": "e55baf5c",
   "metadata": {},
   "outputs": [
    {
     "name": "stdout",
     "output_type": "stream",
     "text": [
      "enter your age22\n",
      "you are eligible to vote\n"
     ]
    }
   ],
   "source": [
    "age = input(\"enter your age\")\n",
    "age = int(age)\n",
    "\n",
    "if age >= 18:\n",
    "    print(\"you are eligible to vote\")\n",
    "else:\n",
    "    print(\"try next year\")"
   ]
  },
  {
   "cell_type": "code",
   "execution_count": null,
   "id": "55d9f4da",
   "metadata": {},
   "outputs": [],
   "source": []
  },
  {
   "cell_type": "code",
   "execution_count": null,
   "id": "5e688344",
   "metadata": {},
   "outputs": [],
   "source": [
    "introduction to python functions :"
   ]
  },
  {
   "cell_type": "code",
   "execution_count": 7,
   "id": "c071207d",
   "metadata": {},
   "outputs": [],
   "source": [
    "# defining / declaring the function :\n",
    "def greet():\n",
    "    print(\"Hello!\")"
   ]
  },
  {
   "cell_type": "code",
   "execution_count": 8,
   "id": "1cc9b981",
   "metadata": {},
   "outputs": [
    {
     "name": "stdout",
     "output_type": "stream",
     "text": [
      "Hello!\n"
     ]
    }
   ],
   "source": [
    "greet() # calling the function"
   ]
  },
  {
   "cell_type": "code",
   "execution_count": 9,
   "id": "b4b7ab84",
   "metadata": {},
   "outputs": [
    {
     "name": "stdout",
     "output_type": "stream",
     "text": [
      "Hello!\n"
     ]
    }
   ],
   "source": [
    "greet()"
   ]
  },
  {
   "cell_type": "code",
   "execution_count": null,
   "id": "01105e9b",
   "metadata": {},
   "outputs": [],
   "source": [
    "understanding the concept of parameters and arguments :"
   ]
  },
  {
   "cell_type": "code",
   "execution_count": null,
   "id": "49b4d0ea",
   "metadata": {},
   "outputs": [],
   "source": []
  },
  {
   "cell_type": "code",
   "execution_count": null,
   "id": "fb693289",
   "metadata": {},
   "outputs": [],
   "source": [
    "# req : create a function called pet_details\n",
    "# define the parameters as pet_name and animal_type"
   ]
  },
  {
   "cell_type": "code",
   "execution_count": null,
   "id": "646a5031",
   "metadata": {},
   "outputs": [],
   "source": []
  },
  {
   "cell_type": "code",
   "execution_count": 12,
   "id": "3d2350aa",
   "metadata": {},
   "outputs": [],
   "source": [
    "def pet_details(pet_name,animal_type):\n",
    "    print(f\" my animal name is {pet_name}\")\n",
    "    print(f\"my pet is a {animal_type}\")"
   ]
  },
  {
   "cell_type": "code",
   "execution_count": 13,
   "id": "7816eeb9",
   "metadata": {},
   "outputs": [
    {
     "name": "stdout",
     "output_type": "stream",
     "text": [
      " my animal name is rosy\n",
      "my pet is a dog\n"
     ]
    }
   ],
   "source": [
    "pet_details('rosy','dog')"
   ]
  },
  {
   "cell_type": "code",
   "execution_count": 14,
   "id": "f7e81200",
   "metadata": {},
   "outputs": [
    {
     "name": "stdout",
     "output_type": "stream",
     "text": [
      " my animal name is jerry\n",
      "my pet is a cat\n"
     ]
    }
   ],
   "source": [
    "pet_details('jerry','cat')"
   ]
  },
  {
   "cell_type": "code",
   "execution_count": 15,
   "id": "3c0e6c87",
   "metadata": {},
   "outputs": [
    {
     "ename": "TypeError",
     "evalue": "pet_details() missing 1 required positional argument: 'animal_type'",
     "output_type": "error",
     "traceback": [
      "\u001b[1;31m---------------------------------------------------------------------------\u001b[0m",
      "\u001b[1;31mTypeError\u001b[0m                                 Traceback (most recent call last)",
      "\u001b[1;32m~\\AppData\\Local\\Temp\\ipykernel_8924\\1949672081.py\u001b[0m in \u001b[0;36m<module>\u001b[1;34m\u001b[0m\n\u001b[1;32m----> 1\u001b[1;33m \u001b[0mpet_details\u001b[0m\u001b[1;33m(\u001b[0m\u001b[1;34m'deo'\u001b[0m\u001b[1;33m)\u001b[0m\u001b[1;33m\u001b[0m\u001b[1;33m\u001b[0m\u001b[0m\n\u001b[0m",
      "\u001b[1;31mTypeError\u001b[0m: pet_details() missing 1 required positional argument: 'animal_type'"
     ]
    }
   ],
   "source": [
    "pet_details('deo')"
   ]
  },
  {
   "cell_type": "code",
   "execution_count": null,
   "id": "5795817a",
   "metadata": {},
   "outputs": [],
   "source": [
    "types of arguments\n",
    "\n",
    "1. positional arguments\n",
    "\n",
    "2. keyword arguments\n",
    "\n",
    "3. default arguments"
   ]
  },
  {
   "cell_type": "code",
   "execution_count": 16,
   "id": "0e8ef77f",
   "metadata": {},
   "outputs": [
    {
     "name": "stdout",
     "output_type": "stream",
     "text": [
      " my animal name is rabbit\n",
      "my pet is a ruby\n"
     ]
    }
   ],
   "source": [
    "pet_details('rabbit','ruby')"
   ]
  },
  {
   "cell_type": "code",
   "execution_count": 17,
   "id": "2d1e92ca",
   "metadata": {},
   "outputs": [
    {
     "name": "stdout",
     "output_type": "stream",
     "text": [
      " my animal name is ruby\n",
      "my pet is a rabbit\n"
     ]
    }
   ],
   "source": [
    "pet_details ('ruby','rabbit')"
   ]
  },
  {
   "cell_type": "code",
   "execution_count": 19,
   "id": "019b83da",
   "metadata": {},
   "outputs": [
    {
     "name": "stdout",
     "output_type": "stream",
     "text": [
      " my animal name is ruby\n",
      "my pet is a rabbit\n"
     ]
    }
   ],
   "source": [
    "pet_details(animal_type='rabbit',pet_name='ruby')"
   ]
  },
  {
   "cell_type": "code",
   "execution_count": null,
   "id": "3c57b2fc",
   "metadata": {},
   "outputs": [],
   "source": []
  },
  {
   "cell_type": "code",
   "execution_count": null,
   "id": "77a4cfc1",
   "metadata": {},
   "outputs": [],
   "source": []
  }
 ],
 "metadata": {
  "kernelspec": {
   "display_name": "Python 3 (ipykernel)",
   "language": "python",
   "name": "python3"
  },
  "language_info": {
   "codemirror_mode": {
    "name": "ipython",
    "version": 3
   },
   "file_extension": ".py",
   "mimetype": "text/x-python",
   "name": "python",
   "nbconvert_exporter": "python",
   "pygments_lexer": "ipython3",
   "version": "3.9.13"
  }
 },
 "nbformat": 4,
 "nbformat_minor": 5
}
