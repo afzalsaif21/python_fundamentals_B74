{
 "cells": [
  {
   "cell_type": "code",
   "execution_count": null,
   "id": "eb049463",
   "metadata": {},
   "outputs": [],
   "source": [
    "# General syntax of a conditional statement :"
   ]
  },
  {
   "cell_type": "code",
   "execution_count": null,
   "id": "debf8201",
   "metadata": {},
   "outputs": [],
   "source": []
  },
  {
   "cell_type": "code",
   "execution_count": null,
   "id": "c678c1c1",
   "metadata": {},
   "outputs": [],
   "source": [
    "if conditional_test:\n",
    "    do something\n",
    "else:\n",
    "    do something different"
   ]
  },
  {
   "cell_type": "code",
   "execution_count": null,
   "id": "08ce2eaf",
   "metadata": {},
   "outputs": [],
   "source": []
  },
  {
   "cell_type": "code",
   "execution_count": 2,
   "id": "d0ed9206",
   "metadata": {},
   "outputs": [],
   "source": [
    "cars = ['bmw','toyota','suzuki','maruti','audi']"
   ]
  },
  {
   "cell_type": "code",
   "execution_count": 3,
   "id": "ad0b661d",
   "metadata": {},
   "outputs": [
    {
     "name": "stdout",
     "output_type": "stream",
     "text": [
      "['bmw', 'toyota', 'suzuki', 'maruti', 'audi']\n"
     ]
    }
   ],
   "source": [
    "print(cars)"
   ]
  },
  {
   "cell_type": "code",
   "execution_count": 4,
   "id": "41ba0f4c",
   "metadata": {},
   "outputs": [
    {
     "data": {
      "text/plain": [
       "list"
      ]
     },
     "execution_count": 4,
     "metadata": {},
     "output_type": "execute_result"
    }
   ],
   "source": [
    "type(cars)"
   ]
  },
  {
   "cell_type": "code",
   "execution_count": null,
   "id": "379de714",
   "metadata": {},
   "outputs": [],
   "source": [
    "# if the car is bmw...need to print that in capital letters"
   ]
  },
  {
   "cell_type": "code",
   "execution_count": null,
   "id": "7e0b274b",
   "metadata": {},
   "outputs": [],
   "source": []
  },
  {
   "cell_type": "code",
   "execution_count": 6,
   "id": "f0ba90ea",
   "metadata": {},
   "outputs": [
    {
     "ename": "AttributeError",
     "evalue": "'list' object has no attribute 'upper'",
     "output_type": "error",
     "traceback": [
      "\u001b[1;31m---------------------------------------------------------------------------\u001b[0m",
      "\u001b[1;31mAttributeError\u001b[0m                            Traceback (most recent call last)",
      "\u001b[1;32m~\\AppData\\Local\\Temp\\ipykernel_3560\\2480216317.py\u001b[0m in \u001b[0;36m<module>\u001b[1;34m\u001b[0m\n\u001b[0;32m      1\u001b[0m \u001b[1;32mfor\u001b[0m \u001b[0mx\u001b[0m \u001b[1;32min\u001b[0m \u001b[0mcars\u001b[0m\u001b[1;33m:\u001b[0m\u001b[1;33m\u001b[0m\u001b[1;33m\u001b[0m\u001b[0m\n\u001b[0;32m      2\u001b[0m     \u001b[1;32mif\u001b[0m \u001b[0mx\u001b[0m \u001b[1;33m==\u001b[0m \u001b[1;34m'bmw'\u001b[0m\u001b[1;33m:\u001b[0m\u001b[1;33m\u001b[0m\u001b[1;33m\u001b[0m\u001b[0m\n\u001b[1;32m----> 3\u001b[1;33m         \u001b[0mprint\u001b[0m\u001b[1;33m(\u001b[0m\u001b[0mcars\u001b[0m\u001b[1;33m.\u001b[0m\u001b[0mupper\u001b[0m\u001b[1;33m(\u001b[0m\u001b[1;33m)\u001b[0m\u001b[1;33m)\u001b[0m\u001b[1;33m\u001b[0m\u001b[1;33m\u001b[0m\u001b[0m\n\u001b[0m\u001b[0;32m      4\u001b[0m     \u001b[1;32melse\u001b[0m\u001b[1;33m:\u001b[0m\u001b[1;33m\u001b[0m\u001b[1;33m\u001b[0m\u001b[0m\n\u001b[0;32m      5\u001b[0m         \u001b[0mprint\u001b[0m\u001b[1;33m(\u001b[0m\u001b[0mcar\u001b[0m\u001b[1;33m.\u001b[0m\u001b[0mtitle\u001b[0m\u001b[1;33m(\u001b[0m\u001b[1;33m)\u001b[0m\u001b[1;33m)\u001b[0m\u001b[1;33m\u001b[0m\u001b[1;33m\u001b[0m\u001b[0m\n",
      "\u001b[1;31mAttributeError\u001b[0m: 'list' object has no attribute 'upper'"
     ]
    }
   ],
   "source": [
    "for x in cars:\n",
    "    if x == 'bmw':\n",
    "        print(cars.upper())\n",
    "    else:\n",
    "        print(car.title())"
   ]
  },
  {
   "cell_type": "code",
   "execution_count": null,
   "id": "46dc95d3",
   "metadata": {},
   "outputs": [],
   "source": []
  },
  {
   "cell_type": "code",
   "execution_count": null,
   "id": "26a29b7b",
   "metadata": {},
   "outputs": [],
   "source": [
    "for  tempvar in mainvar\n",
    "    print(tempvar)\n",
    "    \n",
    "for x in cars:\n",
    "    print(x)"
   ]
  },
  {
   "cell_type": "code",
   "execution_count": 7,
   "id": "b71c5b46",
   "metadata": {},
   "outputs": [
    {
     "name": "stdout",
     "output_type": "stream",
     "text": [
      "BMW\n",
      "Toyota\n",
      "Suzuki\n",
      "Maruti\n",
      "Audi\n"
     ]
    }
   ],
   "source": [
    "for x in cars:\n",
    "    if x == 'bmw':\n",
    "        print(x.upper())\n",
    "    else:\n",
    "        print(x.title())"
   ]
  },
  {
   "cell_type": "code",
   "execution_count": null,
   "id": "6207a697",
   "metadata": {},
   "outputs": [],
   "source": []
  },
  {
   "cell_type": "code",
   "execution_count": null,
   "id": "649c5921",
   "metadata": {},
   "outputs": [],
   "source": [
    "# entry of the park on the conditions below :\n",
    "\n",
    "1. Admission for anyone under age 4 is free\n",
    "\n",
    "2. Admission for anyone between the age of 4 and 18 is 25 rs\n",
    "\n",
    "3. admission for anyone with age  or older is 5 rs"
   ]
  },
  {
   "cell_type": "code",
   "execution_count": null,
   "id": "868d7597",
   "metadata": {},
   "outputs": [],
   "source": []
  },
  {
   "cell_type": "code",
   "execution_count": 10,
   "id": "80bbc97f",
   "metadata": {},
   "outputs": [],
   "source": [
    "age = 4"
   ]
  },
  {
   "cell_type": "code",
   "execution_count": 11,
   "id": "977a22c3",
   "metadata": {},
   "outputs": [
    {
     "name": "stdout",
     "output_type": "stream",
     "text": [
      " your entry is free\n"
     ]
    }
   ],
   "source": [
    "if age <= 4:\n",
    "    print(\" your entry is free\")\n",
    "elif age <= 18:\n",
    "     print(\"your entry fee is 25\")\n",
    "else :\n",
    "    print(\"your entry fee is 15\")"
   ]
  },
  {
   "cell_type": "code",
   "execution_count": null,
   "id": "dcd91fa4",
   "metadata": {},
   "outputs": [],
   "source": []
  },
  {
   "cell_type": "code",
   "execution_count": 12,
   "id": "9d5dfc93",
   "metadata": {},
   "outputs": [],
   "source": [
    "age = 5"
   ]
  },
  {
   "cell_type": "code",
   "execution_count": 13,
   "id": "0f50f1ab",
   "metadata": {},
   "outputs": [
    {
     "name": "stdout",
     "output_type": "stream",
     "text": [
      "your entry fee is 25\n"
     ]
    }
   ],
   "source": [
    "if age <= 4:\n",
    "    print(\" your entry is free\")\n",
    "elif age <= 18:\n",
    "     print(\"your entry fee is 25\")\n",
    "else :\n",
    "    print(\"your entry fee is 15\")"
   ]
  },
  {
   "cell_type": "code",
   "execution_count": null,
   "id": "83b4e3e0",
   "metadata": {},
   "outputs": [],
   "source": []
  },
  {
   "cell_type": "code",
   "execution_count": 14,
   "id": "8f5e6160",
   "metadata": {},
   "outputs": [
    {
     "name": "stdout",
     "output_type": "stream",
     "text": [
      "your entry fee is 25\n"
     ]
    }
   ],
   "source": [
    "if age < 4:\n",
    "    print(\" your entry is free\")\n",
    "elif age <= 18:\n",
    "     print(\"your entry fee is 25\")\n",
    "else :\n",
    "    print(\"your entry fee is 15\")"
   ]
  },
  {
   "cell_type": "code",
   "execution_count": null,
   "id": "6c589220",
   "metadata": {},
   "outputs": [],
   "source": []
  },
  {
   "cell_type": "code",
   "execution_count": null,
   "id": "8e037752",
   "metadata": {},
   "outputs": [],
   "source": [
    "Accepting the user input :"
   ]
  },
  {
   "cell_type": "code",
   "execution_count": 15,
   "id": "5aab399c",
   "metadata": {},
   "outputs": [
    {
     "name": "stdout",
     "output_type": "stream",
     "text": [
      "tell me something and i will repeat it for you:how are you?\n",
      "how are you?\n"
     ]
    }
   ],
   "source": [
    "message = input(\"tell me something and i will repeat it for you:\")\n",
    "print(message)"
   ]
  },
  {
   "cell_type": "code",
   "execution_count": null,
   "id": "d8435565",
   "metadata": {},
   "outputs": [],
   "source": [
    "# Greeting the user"
   ]
  },
  {
   "cell_type": "code",
   "execution_count": 16,
   "id": "65aa3796",
   "metadata": {},
   "outputs": [
    {
     "name": "stdout",
     "output_type": "stream",
     "text": [
      "please enter your nameafzal\n",
      "Hello, afzal!\n"
     ]
    }
   ],
   "source": [
    "name = input (\"please enter your name\")\n",
    "print(f\"Hello, {name}!\")"
   ]
  },
  {
   "cell_type": "code",
   "execution_count": null,
   "id": "12424351",
   "metadata": {},
   "outputs": [],
   "source": []
  },
  {
   "cell_type": "code",
   "execution_count": null,
   "id": "51312bf0",
   "metadata": {},
   "outputs": [],
   "source": [
    "Note : input function will be accepting in the string format always"
   ]
  },
  {
   "cell_type": "code",
   "execution_count": null,
   "id": "083520c9",
   "metadata": {},
   "outputs": [],
   "source": []
  },
  {
   "cell_type": "code",
   "execution_count": 1,
   "id": "57e32787",
   "metadata": {},
   "outputs": [
    {
     "name": "stdout",
     "output_type": "stream",
     "text": [
      "how old are you?12\n"
     ]
    }
   ],
   "source": [
    "age = input(\"how old are you?\")"
   ]
  },
  {
   "cell_type": "code",
   "execution_count": 2,
   "id": "f3f68db5",
   "metadata": {},
   "outputs": [
    {
     "data": {
      "text/plain": [
       "str"
      ]
     },
     "execution_count": 2,
     "metadata": {},
     "output_type": "execute_result"
    }
   ],
   "source": [
    "type(age)"
   ]
  },
  {
   "cell_type": "code",
   "execution_count": 3,
   "id": "b8cf2301",
   "metadata": {},
   "outputs": [],
   "source": [
    "age = int(age)"
   ]
  },
  {
   "cell_type": "code",
   "execution_count": 4,
   "id": "18a86b19",
   "metadata": {},
   "outputs": [
    {
     "data": {
      "text/plain": [
       "int"
      ]
     },
     "execution_count": 4,
     "metadata": {},
     "output_type": "execute_result"
    }
   ],
   "source": [
    "type(age)"
   ]
  },
  {
   "cell_type": "code",
   "execution_count": null,
   "id": "36bf4ca8",
   "metadata": {},
   "outputs": [],
   "source": [
    "# req : Building a simple voting application :"
   ]
  },
  {
   "cell_type": "code",
   "execution_count": null,
   "id": "e61b2cfb",
   "metadata": {},
   "outputs": [],
   "source": []
  },
  {
   "cell_type": "code",
   "execution_count": 5,
   "id": "80c4837f",
   "metadata": {},
   "outputs": [
    {
     "name": "stdout",
     "output_type": "stream",
     "text": [
      "pls enter your age :26\n",
      "you are eligible to vote\n"
     ]
    }
   ],
   "source": [
    "age = input(\"pls enter your age :\")\n",
    "age = int(age)\n",
    "\n",
    "\n",
    "if age >= 18:\n",
    "    print(\"you are eligible to vote\")\n",
    "else:\n",
    "    print(\"you are not eligible for vote\")"
   ]
  },
  {
   "cell_type": "code",
   "execution_count": null,
   "id": "451435e2",
   "metadata": {},
   "outputs": [],
   "source": []
  },
  {
   "cell_type": "code",
   "execution_count": null,
   "id": "8c2d618a",
   "metadata": {},
   "outputs": [],
   "source": []
  },
  {
   "cell_type": "code",
   "execution_count": null,
   "id": "b3ced1d5",
   "metadata": {},
   "outputs": [],
   "source": []
  },
  {
   "cell_type": "code",
   "execution_count": null,
   "id": "e83abc5c",
   "metadata": {},
   "outputs": [],
   "source": []
  }
 ],
 "metadata": {
  "kernelspec": {
   "display_name": "Python 3 (ipykernel)",
   "language": "python",
   "name": "python3"
  },
  "language_info": {
   "codemirror_mode": {
    "name": "ipython",
    "version": 3
   },
   "file_extension": ".py",
   "mimetype": "text/x-python",
   "name": "python",
   "nbconvert_exporter": "python",
   "pygments_lexer": "ipython3",
   "version": "3.9.13"
  }
 },
 "nbformat": 4,
 "nbformat_minor": 5
}
